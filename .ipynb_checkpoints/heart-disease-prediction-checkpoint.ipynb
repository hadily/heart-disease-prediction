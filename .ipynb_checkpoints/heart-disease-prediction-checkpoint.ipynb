{
 "cells": [
  {
   "cell_type": "markdown",
   "metadata": {},
   "source": [
    "# Heart Disease Prediction"
   ]
  },
  {
   "cell_type": "markdown",
   "metadata": {},
   "source": [
    "The machine learning component of the Health Monitor project focuses on predicting the likelihood of cardiovascular diseases based on various health parameters. By analyzing features such as age, gender, blood pressure, cholesterol levels, and more, the model provides users with valuable insights into their cardiovascular health status. "
   ]
  },
  {
   "cell_type": "markdown",
   "metadata": {},
   "source": [
    "Utilizing independent features for diagnosis, the model mirrors how doctors assess and diagnose cardiovascular conditions, enabling users to monitor their health effectively and take proactive steps towards maintaining a healthy lifestyle."
   ]
  },
  {
   "cell_type": "markdown",
   "metadata": {},
   "source": [
    "# Importing Libraries"
   ]
  },
  {
   "cell_type": "code",
   "execution_count": 1,
   "metadata": {
    "_cell_guid": "b1076dfc-b9ad-4769-8c92-a6c4dae69d19",
    "_uuid": "8f2839f25d086af736a60e9eeb907d3b93b6e0e5",
    "execution": {
     "iopub.execute_input": "2024-03-28T20:22:19.018626Z",
     "iopub.status.busy": "2024-03-28T20:22:19.018113Z",
     "iopub.status.idle": "2024-03-28T20:22:22.781807Z",
     "shell.execute_reply": "2024-03-28T20:22:22.780321Z",
     "shell.execute_reply.started": "2024-03-28T20:22:19.018592Z"
    }
   },
   "outputs": [],
   "source": [
    "import numpy as np \n",
    "import pandas as pd \n",
    "import seaborn as sns\n",
    "import matplotlib.pyplot as plt\n",
    "\n",
    "from sklearn.preprocessing import MinMaxScaler\n",
    "from sklearn.metrics import classification_report, accuracy_score, mean_absolute_error, mean_squared_error,confusion_matrix\n",
    "from sklearn.model_selection import train_test_split, GridSearchCV, cross_val_score, KFold\n",
    "from sklearn.ensemble import RandomForestClassifier\n",
    "from sklearn.preprocessing import StandardScaler    \n",
    "from sklearn import metrics\n",
    "from sklearn.linear_model import LogisticRegression\n",
    "from sklearn.svm import SVC\n",
    "from sklearn.tree import DecisionTreeClassifier  \n",
    "from sklearn.neighbors import KNeighborsClassifier\n",
    "from sklearn.naive_bayes import GaussianNB"
   ]
  },
  {
   "cell_type": "code",
   "execution_count": 2,
   "metadata": {
    "execution": {
     "iopub.execute_input": "2024-03-28T20:22:22.787744Z",
     "iopub.status.busy": "2024-03-28T20:22:22.784497Z",
     "iopub.status.idle": "2024-03-28T20:22:22.842745Z",
     "shell.execute_reply": "2024-03-28T20:22:22.841794Z",
     "shell.execute_reply.started": "2024-03-28T20:22:22.787683Z"
    }
   },
   "outputs": [
    {
     "data": {
      "text/html": [
       "<div>\n",
       "<style scoped>\n",
       "    .dataframe tbody tr th:only-of-type {\n",
       "        vertical-align: middle;\n",
       "    }\n",
       "\n",
       "    .dataframe tbody tr th {\n",
       "        vertical-align: top;\n",
       "    }\n",
       "\n",
       "    .dataframe thead th {\n",
       "        text-align: right;\n",
       "    }\n",
       "</style>\n",
       "<table border=\"1\" class=\"dataframe\">\n",
       "  <thead>\n",
       "    <tr style=\"text-align: right;\">\n",
       "      <th></th>\n",
       "      <th>patientid</th>\n",
       "      <th>age</th>\n",
       "      <th>gender</th>\n",
       "      <th>chestpain</th>\n",
       "      <th>restingBP</th>\n",
       "      <th>serumcholestrol</th>\n",
       "      <th>fastingbloodsugar</th>\n",
       "      <th>restingrelectro</th>\n",
       "      <th>maxheartrate</th>\n",
       "      <th>exerciseangia</th>\n",
       "      <th>oldpeak</th>\n",
       "      <th>slope</th>\n",
       "      <th>noofmajorvessels</th>\n",
       "      <th>target</th>\n",
       "    </tr>\n",
       "  </thead>\n",
       "  <tbody>\n",
       "    <tr>\n",
       "      <th>0</th>\n",
       "      <td>103368</td>\n",
       "      <td>53</td>\n",
       "      <td>1</td>\n",
       "      <td>2</td>\n",
       "      <td>171</td>\n",
       "      <td>0</td>\n",
       "      <td>0</td>\n",
       "      <td>1</td>\n",
       "      <td>147</td>\n",
       "      <td>0</td>\n",
       "      <td>5.3</td>\n",
       "      <td>3</td>\n",
       "      <td>3</td>\n",
       "      <td>1</td>\n",
       "    </tr>\n",
       "    <tr>\n",
       "      <th>1</th>\n",
       "      <td>119250</td>\n",
       "      <td>40</td>\n",
       "      <td>1</td>\n",
       "      <td>0</td>\n",
       "      <td>94</td>\n",
       "      <td>229</td>\n",
       "      <td>0</td>\n",
       "      <td>1</td>\n",
       "      <td>115</td>\n",
       "      <td>0</td>\n",
       "      <td>3.7</td>\n",
       "      <td>1</td>\n",
       "      <td>1</td>\n",
       "      <td>0</td>\n",
       "    </tr>\n",
       "    <tr>\n",
       "      <th>2</th>\n",
       "      <td>119372</td>\n",
       "      <td>49</td>\n",
       "      <td>1</td>\n",
       "      <td>2</td>\n",
       "      <td>133</td>\n",
       "      <td>142</td>\n",
       "      <td>0</td>\n",
       "      <td>0</td>\n",
       "      <td>202</td>\n",
       "      <td>1</td>\n",
       "      <td>5.0</td>\n",
       "      <td>1</td>\n",
       "      <td>0</td>\n",
       "      <td>0</td>\n",
       "    </tr>\n",
       "    <tr>\n",
       "      <th>3</th>\n",
       "      <td>132514</td>\n",
       "      <td>43</td>\n",
       "      <td>1</td>\n",
       "      <td>0</td>\n",
       "      <td>138</td>\n",
       "      <td>295</td>\n",
       "      <td>1</td>\n",
       "      <td>1</td>\n",
       "      <td>153</td>\n",
       "      <td>0</td>\n",
       "      <td>3.2</td>\n",
       "      <td>2</td>\n",
       "      <td>2</td>\n",
       "      <td>1</td>\n",
       "    </tr>\n",
       "    <tr>\n",
       "      <th>4</th>\n",
       "      <td>146211</td>\n",
       "      <td>31</td>\n",
       "      <td>1</td>\n",
       "      <td>1</td>\n",
       "      <td>199</td>\n",
       "      <td>0</td>\n",
       "      <td>0</td>\n",
       "      <td>2</td>\n",
       "      <td>136</td>\n",
       "      <td>0</td>\n",
       "      <td>5.3</td>\n",
       "      <td>3</td>\n",
       "      <td>2</td>\n",
       "      <td>1</td>\n",
       "    </tr>\n",
       "  </tbody>\n",
       "</table>\n",
       "</div>"
      ],
      "text/plain": [
       "   patientid  age  gender  chestpain  restingBP  serumcholestrol  \\\n",
       "0     103368   53       1          2        171                0   \n",
       "1     119250   40       1          0         94              229   \n",
       "2     119372   49       1          2        133              142   \n",
       "3     132514   43       1          0        138              295   \n",
       "4     146211   31       1          1        199                0   \n",
       "\n",
       "   fastingbloodsugar  restingrelectro  maxheartrate  exerciseangia  oldpeak  \\\n",
       "0                  0                1           147              0      5.3   \n",
       "1                  0                1           115              0      3.7   \n",
       "2                  0                0           202              1      5.0   \n",
       "3                  1                1           153              0      3.2   \n",
       "4                  0                2           136              0      5.3   \n",
       "\n",
       "   slope  noofmajorvessels  target  \n",
       "0      3                 3       1  \n",
       "1      1                 1       0  \n",
       "2      1                 0       0  \n",
       "3      2                 2       1  \n",
       "4      3                 2       1  "
      ]
     },
     "execution_count": 2,
     "metadata": {},
     "output_type": "execute_result"
    }
   ],
   "source": [
    "df = pd.read_csv('Cardiovascular_Disease_Dataset.csv')\n",
    "df.head()"
   ]
  },
  {
   "cell_type": "code",
   "execution_count": 3,
   "metadata": {
    "execution": {
     "iopub.execute_input": "2024-03-28T20:22:26.414900Z",
     "iopub.status.busy": "2024-03-28T20:22:26.414418Z",
     "iopub.status.idle": "2024-03-28T20:22:26.423450Z",
     "shell.execute_reply": "2024-03-28T20:22:26.422235Z",
     "shell.execute_reply.started": "2024-03-28T20:22:26.414865Z"
    }
   },
   "outputs": [
    {
     "data": {
      "text/plain": [
       "(1000, 14)"
      ]
     },
     "execution_count": 3,
     "metadata": {},
     "output_type": "execute_result"
    }
   ],
   "source": [
    "# Basic Operations\n",
    "df.shape"
   ]
  },
  {
   "cell_type": "code",
   "execution_count": 4,
   "metadata": {
    "execution": {
     "iopub.execute_input": "2024-03-28T20:24:19.963684Z",
     "iopub.status.busy": "2024-03-28T20:24:19.962610Z",
     "iopub.status.idle": "2024-03-28T20:24:19.972457Z",
     "shell.execute_reply": "2024-03-28T20:24:19.971042Z",
     "shell.execute_reply.started": "2024-03-28T20:24:19.963647Z"
    }
   },
   "outputs": [
    {
     "name": "stdout",
     "output_type": "stream",
     "text": [
      "\n",
      " Missing values before cleaning\n",
      "patientid            0\n",
      "age                  0\n",
      "gender               0\n",
      "chestpain            0\n",
      "restingBP            0\n",
      "serumcholestrol      0\n",
      "fastingbloodsugar    0\n",
      "restingrelectro      0\n",
      "maxheartrate         0\n",
      "exerciseangia        0\n",
      "oldpeak              0\n",
      "slope                0\n",
      "noofmajorvessels     0\n",
      "target               0\n",
      "dtype: int64\n"
     ]
    }
   ],
   "source": [
    "# check for missing values\n",
    "print(\"\\n Missing values before cleaning\")\n",
    "print(df.isnull().sum())"
   ]
  },
  {
   "cell_type": "code",
   "execution_count": 5,
   "metadata": {
    "execution": {
     "iopub.execute_input": "2024-03-28T20:22:28.612050Z",
     "iopub.status.busy": "2024-03-28T20:22:28.610736Z",
     "iopub.status.idle": "2024-03-28T20:22:28.648635Z",
     "shell.execute_reply": "2024-03-28T20:22:28.646514Z",
     "shell.execute_reply.started": "2024-03-28T20:22:28.612004Z"
    }
   },
   "outputs": [
    {
     "name": "stdout",
     "output_type": "stream",
     "text": [
      "<class 'pandas.core.frame.DataFrame'>\n",
      "RangeIndex: 1000 entries, 0 to 999\n",
      "Data columns (total 14 columns):\n",
      " #   Column             Non-Null Count  Dtype  \n",
      "---  ------             --------------  -----  \n",
      " 0   patientid          1000 non-null   int64  \n",
      " 1   age                1000 non-null   int64  \n",
      " 2   gender             1000 non-null   int64  \n",
      " 3   chestpain          1000 non-null   int64  \n",
      " 4   restingBP          1000 non-null   int64  \n",
      " 5   serumcholestrol    1000 non-null   int64  \n",
      " 6   fastingbloodsugar  1000 non-null   int64  \n",
      " 7   restingrelectro    1000 non-null   int64  \n",
      " 8   maxheartrate       1000 non-null   int64  \n",
      " 9   exerciseangia      1000 non-null   int64  \n",
      " 10  oldpeak            1000 non-null   float64\n",
      " 11  slope              1000 non-null   int64  \n",
      " 12  noofmajorvessels   1000 non-null   int64  \n",
      " 13  target             1000 non-null   int64  \n",
      "dtypes: float64(1), int64(13)\n",
      "memory usage: 109.5 KB\n"
     ]
    }
   ],
   "source": [
    "# Basic dataset information pre cleaning\n",
    "df.info()"
   ]
  },
  {
   "cell_type": "code",
   "execution_count": 6,
   "metadata": {
    "execution": {
     "iopub.execute_input": "2024-03-28T20:22:31.357224Z",
     "iopub.status.busy": "2024-03-28T20:22:31.356284Z",
     "iopub.status.idle": "2024-03-28T20:22:31.368936Z",
     "shell.execute_reply": "2024-03-28T20:22:31.367671Z",
     "shell.execute_reply.started": "2024-03-28T20:22:31.357186Z"
    }
   },
   "outputs": [
    {
     "data": {
      "text/plain": [
       "0"
      ]
     },
     "execution_count": 6,
     "metadata": {},
     "output_type": "execute_result"
    }
   ],
   "source": [
    "# Checking the duplicate Records\n",
    "df.duplicated().sum()"
   ]
  },
  {
   "cell_type": "markdown",
   "metadata": {},
   "source": [
    "### Report\n",
    "* There are 14 columns and 1000 rows in the dataset.\n",
    "\n",
    "* There is no missing values and all the data is categorical.\n",
    "\n",
    "* oldpeak is a float and rest all are integers.\n",
    "\n",
    "* There is no duplicated values."
   ]
  },
  {
   "cell_type": "markdown",
   "metadata": {},
   "source": [
    "# Data cleaning"
   ]
  },
  {
   "cell_type": "code",
   "execution_count": 7,
   "metadata": {},
   "outputs": [
    {
     "name": "stdout",
     "output_type": "stream",
     "text": [
      "     Before Transformation  After Transformation\n",
      "0                        2                     0\n",
      "1                        0                     0\n",
      "2                        2                     0\n",
      "3                        0                     0\n",
      "4                        1                     0\n",
      "..                     ...                   ...\n",
      "995                      2                     0\n",
      "996                      3                     1\n",
      "997                      0                     0\n",
      "998                      1                     0\n",
      "999                      0                     0\n",
      "\n",
      "[1000 rows x 2 columns]\n"
     ]
    }
   ],
   "source": [
    "# Chest pain type : \n",
    "# 0: typical angina, 1: atypical angina, 2: non-anginal pain, 3: asymptomatic  \n",
    "# --> 0: anginal, 1: asymptomatic\n",
    "\n",
    "def transform_chestpain(value):\n",
    "    if value in [0, 1, 2]:\n",
    "        return 0\n",
    "    elif value == 3:\n",
    "        return 1\n",
    "    else:\n",
    "        return None\n",
    "\n",
    "\n",
    "# Display the DataFrame before transformation\n",
    "before_df = pd.DataFrame({'Before Transformation': df['chestpain']})\n",
    "\n",
    "df['chestpain'] = df['chestpain'].apply(transform_chestpain)\n",
    "\n",
    "# Display the DataFrame after transformation\n",
    "after_df = pd.DataFrame({'After Transformation': df['chestpain']})\n",
    "\n",
    "# Concatenate the DataFrames for display\n",
    "result_df = pd.concat([before_df, after_df], axis=1)\n",
    "\n",
    "# Print the result\n",
    "print(result_df)"
   ]
  },
  {
   "cell_type": "code",
   "execution_count": 8,
   "metadata": {},
   "outputs": [
    {
     "name": "stdout",
     "output_type": "stream",
     "text": [
      "     Before Transformation  After Transformation\n",
      "0                        1                     1\n",
      "1                        1                     1\n",
      "2                        0                     0\n",
      "3                        1                     1\n",
      "4                        2                     1\n",
      "..                     ...                   ...\n",
      "995                      2                     1\n",
      "996                      1                     1\n",
      "997                      0                     0\n",
      "998                      1                     1\n",
      "999                      0                     0\n",
      "\n",
      "[1000 rows x 2 columns]\n"
     ]
    }
   ],
   "source": [
    "# Resting electrocardiogram results: \n",
    "# (0: normal, 1: ST-T wave abnormality, 2: probable or definite left ventricular hypertrophy)\n",
    "# --> (0: normal, 1: abnormality)\n",
    "\n",
    "def transform_restingrelectro(value):\n",
    "    if value in [1, 2]:\n",
    "        return 1\n",
    "    elif value == 0:\n",
    "        return 0\n",
    "    else:\n",
    "        return None\n",
    "    \n",
    "# Display the DataFrame before transformation\n",
    "before_df = pd.DataFrame({'Before Transformation': df['restingrelectro']})\n",
    "\n",
    "df['restingrelectro'] = df['restingrelectro'].apply(transform_restingrelectro)\n",
    "\n",
    "# Display the DataFrame after transformation\n",
    "after_df = pd.DataFrame({'After Transformation': df['restingrelectro']})\n",
    "\n",
    "# Concatenate the DataFrames for display\n",
    "result_df = pd.concat([before_df, after_df], axis=1)\n",
    "\n",
    "# Print the result\n",
    "print(result_df)"
   ]
  },
  {
   "cell_type": "code",
   "execution_count": 9,
   "metadata": {},
   "outputs": [
    {
     "name": "stdout",
     "output_type": "stream",
     "text": [
      "<class 'pandas.core.frame.DataFrame'>\n",
      "RangeIndex: 1000 entries, 0 to 999\n",
      "Data columns (total 11 columns):\n",
      " #   Column             Non-Null Count  Dtype\n",
      "---  ------             --------------  -----\n",
      " 0   patientid          1000 non-null   int64\n",
      " 1   age                1000 non-null   int64\n",
      " 2   gender             1000 non-null   int64\n",
      " 3   chestpain          1000 non-null   int64\n",
      " 4   restingBP          1000 non-null   int64\n",
      " 5   serumcholestrol    1000 non-null   int64\n",
      " 6   fastingbloodsugar  1000 non-null   int64\n",
      " 7   restingrelectro    1000 non-null   int64\n",
      " 8   maxheartrate       1000 non-null   int64\n",
      " 9   slope              1000 non-null   int64\n",
      " 10  target             1000 non-null   int64\n",
      "dtypes: int64(11)\n",
      "memory usage: 86.1 KB\n"
     ]
    }
   ],
   "source": [
    "# drop unimportant data columns\n",
    "df = df.drop(columns=['exerciseangia'])\n",
    "df = df.drop(columns=['oldpeak'])\n",
    "df = df.drop(columns=['noofmajorvessels'])\n",
    "df.info()"
   ]
  },
  {
   "cell_type": "code",
   "execution_count": 10,
   "metadata": {},
   "outputs": [
    {
     "data": {
      "text/plain": [
       "(1000, 11)"
      ]
     },
     "execution_count": 10,
     "metadata": {},
     "output_type": "execute_result"
    }
   ],
   "source": [
    "# change age range to 40-80\n",
    "#df = df[df['age'] >= 40]\n",
    "\n",
    "df.shape"
   ]
  },
  {
   "cell_type": "code",
   "execution_count": 11,
   "metadata": {},
   "outputs": [
    {
     "name": "stdout",
     "output_type": "stream",
     "text": [
      "Number of patients with slope value 0: 180\n"
     ]
    }
   ],
   "source": [
    "# Count the occurrences of each value in the 'slope' column\n",
    "slope_counts = df['slope'].value_counts()\n",
    "\n",
    "# Get the count for the value 0\n",
    "count_slope_0 = slope_counts.get(0, 0)  # If value 0 is not present, return 0\n",
    "\n",
    "# Print the count\n",
    "print(\"Number of patients with slope value 0:\", count_slope_0)"
   ]
  },
  {
   "cell_type": "code",
   "execution_count": 12,
   "metadata": {},
   "outputs": [],
   "source": [
    "# Filter out rows where the 'slope' column is equal to 0\n",
    "df = df[df['slope'] != 0]"
   ]
  },
  {
   "cell_type": "code",
   "execution_count": 13,
   "metadata": {},
   "outputs": [
    {
     "data": {
      "text/html": [
       "<div>\n",
       "<style scoped>\n",
       "    .dataframe tbody tr th:only-of-type {\n",
       "        vertical-align: middle;\n",
       "    }\n",
       "\n",
       "    .dataframe tbody tr th {\n",
       "        vertical-align: top;\n",
       "    }\n",
       "\n",
       "    .dataframe thead th {\n",
       "        text-align: right;\n",
       "    }\n",
       "</style>\n",
       "<table border=\"1\" class=\"dataframe\">\n",
       "  <thead>\n",
       "    <tr style=\"text-align: right;\">\n",
       "      <th></th>\n",
       "      <th>patientid</th>\n",
       "      <th>age</th>\n",
       "      <th>gender</th>\n",
       "      <th>chestpain</th>\n",
       "      <th>restingBP</th>\n",
       "      <th>serumcholestrol</th>\n",
       "      <th>fastingbloodsugar</th>\n",
       "      <th>restingrelectro</th>\n",
       "      <th>maxheartrate</th>\n",
       "      <th>slope</th>\n",
       "      <th>target</th>\n",
       "    </tr>\n",
       "  </thead>\n",
       "  <tbody>\n",
       "    <tr>\n",
       "      <th>0</th>\n",
       "      <td>103368</td>\n",
       "      <td>53</td>\n",
       "      <td>1</td>\n",
       "      <td>0</td>\n",
       "      <td>171</td>\n",
       "      <td>0</td>\n",
       "      <td>0</td>\n",
       "      <td>1</td>\n",
       "      <td>147</td>\n",
       "      <td>3</td>\n",
       "      <td>1</td>\n",
       "    </tr>\n",
       "    <tr>\n",
       "      <th>1</th>\n",
       "      <td>119250</td>\n",
       "      <td>40</td>\n",
       "      <td>1</td>\n",
       "      <td>0</td>\n",
       "      <td>94</td>\n",
       "      <td>229</td>\n",
       "      <td>0</td>\n",
       "      <td>1</td>\n",
       "      <td>115</td>\n",
       "      <td>1</td>\n",
       "      <td>0</td>\n",
       "    </tr>\n",
       "    <tr>\n",
       "      <th>2</th>\n",
       "      <td>119372</td>\n",
       "      <td>49</td>\n",
       "      <td>1</td>\n",
       "      <td>0</td>\n",
       "      <td>133</td>\n",
       "      <td>142</td>\n",
       "      <td>0</td>\n",
       "      <td>0</td>\n",
       "      <td>202</td>\n",
       "      <td>1</td>\n",
       "      <td>0</td>\n",
       "    </tr>\n",
       "    <tr>\n",
       "      <th>3</th>\n",
       "      <td>132514</td>\n",
       "      <td>43</td>\n",
       "      <td>1</td>\n",
       "      <td>0</td>\n",
       "      <td>138</td>\n",
       "      <td>295</td>\n",
       "      <td>1</td>\n",
       "      <td>1</td>\n",
       "      <td>153</td>\n",
       "      <td>2</td>\n",
       "      <td>1</td>\n",
       "    </tr>\n",
       "    <tr>\n",
       "      <th>4</th>\n",
       "      <td>146211</td>\n",
       "      <td>31</td>\n",
       "      <td>1</td>\n",
       "      <td>0</td>\n",
       "      <td>199</td>\n",
       "      <td>0</td>\n",
       "      <td>0</td>\n",
       "      <td>1</td>\n",
       "      <td>136</td>\n",
       "      <td>3</td>\n",
       "      <td>1</td>\n",
       "    </tr>\n",
       "  </tbody>\n",
       "</table>\n",
       "</div>"
      ],
      "text/plain": [
       "   patientid  age  gender  chestpain  restingBP  serumcholestrol  \\\n",
       "0     103368   53       1          0        171                0   \n",
       "1     119250   40       1          0         94              229   \n",
       "2     119372   49       1          0        133              142   \n",
       "3     132514   43       1          0        138              295   \n",
       "4     146211   31       1          0        199                0   \n",
       "\n",
       "   fastingbloodsugar  restingrelectro  maxheartrate  slope  target  \n",
       "0                  0                1           147      3       1  \n",
       "1                  0                1           115      1       0  \n",
       "2                  0                0           202      1       0  \n",
       "3                  1                1           153      2       1  \n",
       "4                  0                1           136      3       1  "
      ]
     },
     "execution_count": 13,
     "metadata": {},
     "output_type": "execute_result"
    }
   ],
   "source": [
    "df.head()"
   ]
  },
  {
   "cell_type": "markdown",
   "metadata": {},
   "source": [
    "# EDA - Explanatory Data Analysis\n",
    "Purpose : to find patterns and infer relationships between data elements"
   ]
  },
  {
   "cell_type": "code",
   "execution_count": 14,
   "metadata": {
    "execution": {
     "iopub.execute_input": "2024-03-28T20:44:37.762939Z",
     "iopub.status.busy": "2024-03-28T20:44:37.762435Z",
     "iopub.status.idle": "2024-03-28T20:44:37.827100Z",
     "shell.execute_reply": "2024-03-28T20:44:37.825546Z",
     "shell.execute_reply.started": "2024-03-28T20:44:37.762904Z"
    }
   },
   "outputs": [
    {
     "data": {
      "text/html": [
       "<div>\n",
       "<style scoped>\n",
       "    .dataframe tbody tr th:only-of-type {\n",
       "        vertical-align: middle;\n",
       "    }\n",
       "\n",
       "    .dataframe tbody tr th {\n",
       "        vertical-align: top;\n",
       "    }\n",
       "\n",
       "    .dataframe thead th {\n",
       "        text-align: right;\n",
       "    }\n",
       "</style>\n",
       "<table border=\"1\" class=\"dataframe\">\n",
       "  <thead>\n",
       "    <tr style=\"text-align: right;\">\n",
       "      <th></th>\n",
       "      <th>count</th>\n",
       "      <th>mean</th>\n",
       "      <th>std</th>\n",
       "      <th>min</th>\n",
       "      <th>25%</th>\n",
       "      <th>50%</th>\n",
       "      <th>75%</th>\n",
       "      <th>max</th>\n",
       "    </tr>\n",
       "  </thead>\n",
       "  <tbody>\n",
       "    <tr>\n",
       "      <th>patientid</th>\n",
       "      <td>820.0</td>\n",
       "      <td>5.044813e+06</td>\n",
       "      <td>2.889727e+06</td>\n",
       "      <td>103368.0</td>\n",
       "      <td>2536439.5</td>\n",
       "      <td>4921438.5</td>\n",
       "      <td>7672483.50</td>\n",
       "      <td>9988507.0</td>\n",
       "    </tr>\n",
       "    <tr>\n",
       "      <th>age</th>\n",
       "      <td>820.0</td>\n",
       "      <td>4.910610e+01</td>\n",
       "      <td>1.763224e+01</td>\n",
       "      <td>20.0</td>\n",
       "      <td>34.0</td>\n",
       "      <td>48.5</td>\n",
       "      <td>64.00</td>\n",
       "      <td>80.0</td>\n",
       "    </tr>\n",
       "    <tr>\n",
       "      <th>gender</th>\n",
       "      <td>820.0</td>\n",
       "      <td>7.402439e-01</td>\n",
       "      <td>4.387683e-01</td>\n",
       "      <td>0.0</td>\n",
       "      <td>0.0</td>\n",
       "      <td>1.0</td>\n",
       "      <td>1.00</td>\n",
       "      <td>1.0</td>\n",
       "    </tr>\n",
       "    <tr>\n",
       "      <th>chestpain</th>\n",
       "      <td>820.0</td>\n",
       "      <td>5.000000e-02</td>\n",
       "      <td>2.180780e-01</td>\n",
       "      <td>0.0</td>\n",
       "      <td>0.0</td>\n",
       "      <td>0.0</td>\n",
       "      <td>0.00</td>\n",
       "      <td>1.0</td>\n",
       "    </tr>\n",
       "    <tr>\n",
       "      <th>restingBP</th>\n",
       "      <td>820.0</td>\n",
       "      <td>1.560220e+02</td>\n",
       "      <td>2.886065e+01</td>\n",
       "      <td>94.0</td>\n",
       "      <td>133.0</td>\n",
       "      <td>155.0</td>\n",
       "      <td>184.00</td>\n",
       "      <td>200.0</td>\n",
       "    </tr>\n",
       "    <tr>\n",
       "      <th>serumcholestrol</th>\n",
       "      <td>820.0</td>\n",
       "      <td>3.192561e+02</td>\n",
       "      <td>1.401996e+02</td>\n",
       "      <td>0.0</td>\n",
       "      <td>235.0</td>\n",
       "      <td>330.5</td>\n",
       "      <td>424.75</td>\n",
       "      <td>602.0</td>\n",
       "    </tr>\n",
       "    <tr>\n",
       "      <th>fastingbloodsugar</th>\n",
       "      <td>820.0</td>\n",
       "      <td>3.353659e-01</td>\n",
       "      <td>4.724063e-01</td>\n",
       "      <td>0.0</td>\n",
       "      <td>0.0</td>\n",
       "      <td>0.0</td>\n",
       "      <td>1.00</td>\n",
       "      <td>1.0</td>\n",
       "    </tr>\n",
       "    <tr>\n",
       "      <th>restingrelectro</th>\n",
       "      <td>820.0</td>\n",
       "      <td>5.951220e-01</td>\n",
       "      <td>4.911680e-01</td>\n",
       "      <td>0.0</td>\n",
       "      <td>0.0</td>\n",
       "      <td>1.0</td>\n",
       "      <td>1.00</td>\n",
       "      <td>1.0</td>\n",
       "    </tr>\n",
       "    <tr>\n",
       "      <th>maxheartrate</th>\n",
       "      <td>820.0</td>\n",
       "      <td>1.472280e+02</td>\n",
       "      <td>3.223109e+01</td>\n",
       "      <td>71.0</td>\n",
       "      <td>124.0</td>\n",
       "      <td>148.0</td>\n",
       "      <td>175.00</td>\n",
       "      <td>202.0</td>\n",
       "    </tr>\n",
       "    <tr>\n",
       "      <th>slope</th>\n",
       "      <td>820.0</td>\n",
       "      <td>1.878049e+00</td>\n",
       "      <td>7.701742e-01</td>\n",
       "      <td>1.0</td>\n",
       "      <td>1.0</td>\n",
       "      <td>2.0</td>\n",
       "      <td>2.00</td>\n",
       "      <td>3.0</td>\n",
       "    </tr>\n",
       "    <tr>\n",
       "      <th>target</th>\n",
       "      <td>820.0</td>\n",
       "      <td>7.073171e-01</td>\n",
       "      <td>4.552718e-01</td>\n",
       "      <td>0.0</td>\n",
       "      <td>0.0</td>\n",
       "      <td>1.0</td>\n",
       "      <td>1.00</td>\n",
       "      <td>1.0</td>\n",
       "    </tr>\n",
       "  </tbody>\n",
       "</table>\n",
       "</div>"
      ],
      "text/plain": [
       "                   count          mean           std       min        25%  \\\n",
       "patientid          820.0  5.044813e+06  2.889727e+06  103368.0  2536439.5   \n",
       "age                820.0  4.910610e+01  1.763224e+01      20.0       34.0   \n",
       "gender             820.0  7.402439e-01  4.387683e-01       0.0        0.0   \n",
       "chestpain          820.0  5.000000e-02  2.180780e-01       0.0        0.0   \n",
       "restingBP          820.0  1.560220e+02  2.886065e+01      94.0      133.0   \n",
       "serumcholestrol    820.0  3.192561e+02  1.401996e+02       0.0      235.0   \n",
       "fastingbloodsugar  820.0  3.353659e-01  4.724063e-01       0.0        0.0   \n",
       "restingrelectro    820.0  5.951220e-01  4.911680e-01       0.0        0.0   \n",
       "maxheartrate       820.0  1.472280e+02  3.223109e+01      71.0      124.0   \n",
       "slope              820.0  1.878049e+00  7.701742e-01       1.0        1.0   \n",
       "target             820.0  7.073171e-01  4.552718e-01       0.0        0.0   \n",
       "\n",
       "                         50%         75%        max  \n",
       "patientid          4921438.5  7672483.50  9988507.0  \n",
       "age                     48.5       64.00       80.0  \n",
       "gender                   1.0        1.00        1.0  \n",
       "chestpain                0.0        0.00        1.0  \n",
       "restingBP              155.0      184.00      200.0  \n",
       "serumcholestrol        330.5      424.75      602.0  \n",
       "fastingbloodsugar        0.0        1.00        1.0  \n",
       "restingrelectro          1.0        1.00        1.0  \n",
       "maxheartrate           148.0      175.00      202.0  \n",
       "slope                    2.0        2.00        3.0  \n",
       "target                   1.0        1.00        1.0  "
      ]
     },
     "execution_count": 14,
     "metadata": {},
     "output_type": "execute_result"
    }
   ],
   "source": [
    "df.describe().T"
   ]
  },
  {
   "cell_type": "code",
   "execution_count": 15,
   "metadata": {
    "execution": {
     "iopub.execute_input": "2024-03-28T20:25:53.656680Z",
     "iopub.status.busy": "2024-03-28T20:25:53.656250Z",
     "iopub.status.idle": "2024-03-28T20:25:53.665032Z",
     "shell.execute_reply": "2024-03-28T20:25:53.663874Z",
     "shell.execute_reply.started": "2024-03-28T20:25:53.656653Z"
    }
   },
   "outputs": [
    {
     "name": "stdout",
     "output_type": "stream",
     "text": [
      "Age Range: 20 - 80 Years Old\n"
     ]
    }
   ],
   "source": [
    "# 1. What is the age range of patients in the dataset?\n",
    "#The age range is determined by finding the minimum and maximum age values in the dataset. \n",
    "\n",
    "age_range = f\"Age Range: {df['age'].min()} - {df['age'].max()} Years Old\"\n",
    "print(age_range)"
   ]
  },
  {
   "cell_type": "markdown",
   "metadata": {},
   "source": [
    "#### Report\n",
    "* The age range of patients in the dataset is from 20 to 80 years old."
   ]
  },
  {
   "cell_type": "code",
   "execution_count": 16,
   "metadata": {
    "execution": {
     "iopub.execute_input": "2024-03-28T20:26:23.779015Z",
     "iopub.status.busy": "2024-03-28T20:26:23.778392Z",
     "iopub.status.idle": "2024-03-28T20:26:23.790356Z",
     "shell.execute_reply": "2024-03-28T20:26:23.789514Z",
     "shell.execute_reply.started": "2024-03-28T20:26:23.778984Z"
    }
   },
   "outputs": [
    {
     "name": "stdout",
     "output_type": "stream",
     "text": [
      "male      607\n",
      "female    213\n",
      "Name: gender, dtype: int64\n"
     ]
    }
   ],
   "source": [
    "# 2. How many males and females are represented in the dataset?\n",
    "#The dataset contains only female patients, as indicated by the 'gender' column where 1 female and 0 male.\n",
    "gender_count = df['gender'].value_counts()\n",
    "\n",
    "gender_labels = {0: 'female', 1: 'male'}\n",
    "gender_count.index = gender_count.index.map(gender_labels)\n",
    "\n",
    "print(gender_count)"
   ]
  },
  {
   "cell_type": "markdown",
   "metadata": {},
   "source": [
    "#### Report\n",
    "* The dataset contains 765 male patients and 235 female patients."
   ]
  },
  {
   "cell_type": "code",
   "execution_count": 17,
   "metadata": {},
   "outputs": [
    {
     "name": "stdout",
     "output_type": "stream",
     "text": [
      "Most Common Type of Chest Pain Observed in the Patients:\n",
      "angina          779\n",
      "asymptomatic     41\n",
      "Name: chestpain, dtype: int64\n"
     ]
    }
   ],
   "source": [
    "# 3. What is the most common type of chest pain observed in the patients?\n",
    "# 0 (angina), 1 (asymptomatic)\n",
    "\n",
    "# Define a dictionary to map numerical values to their corresponding labels\n",
    "chest_pain_labels = {0: 'angina', 1: 'asymptomatic'}\n",
    "\n",
    "# Get the counts of chest pain types and map the values to labels\n",
    "chest_pain_counts = df['chestpain'].map(chest_pain_labels).value_counts()\n",
    "\n",
    "# Print the results\n",
    "print(\"Most Common Type of Chest Pain Observed in the Patients:\")\n",
    "print(chest_pain_counts)"
   ]
  },
  {
   "cell_type": "code",
   "execution_count": 18,
   "metadata": {},
   "outputs": [
    {
     "name": "stdout",
     "output_type": "stream",
     "text": [
      "Restingbp Range: 94 - 200 mm Hg\n",
      "Optimal: 62\n",
      "Normal: 99\n",
      "High normal: 123\n",
      "Hypertension: 536\n"
     ]
    }
   ],
   "source": [
    "# 4. Resting blood pressure (systolic)levels \n",
    "# Optimal : < 120 mm Hg\n",
    "# Normal : 120-129 mm Hg\n",
    "# High normal : 130-139 mm Hg\n",
    "# Hypertension : >= 140 mm Hg\n",
    "\n",
    "restingbp_range = f\"Restingbp Range: {df['restingBP'].min()} - {df['restingBP'].max()} mm Hg\"\n",
    "print(restingbp_range)\n",
    "\n",
    "op_count = 0\n",
    "norm_count = 0\n",
    "highn_count = 0\n",
    "hyper_count = 0\n",
    "\n",
    "def count_restingBP(value):\n",
    "    global op_count, norm_count, highn_count, hyper_count\n",
    "\n",
    "    if value < 120:\n",
    "        op_count += 1\n",
    "    elif 120 <= value <= 129:\n",
    "        norm_count += 1\n",
    "    elif 130 <= value <= 139:\n",
    "        highn_count += 1\n",
    "    elif value >= 140:\n",
    "        hyper_count += 1\n",
    "    \n",
    "restingbp_values = df['restingBP']\n",
    "\n",
    "# Count resting blood pressure levels\n",
    "for value in restingbp_values:\n",
    "    count_restingBP(value)\n",
    "    \n",
    "# Print the counts\n",
    "print(\"Optimal:\", op_count)\n",
    "print(\"Normal:\", norm_count)\n",
    "print(\"High normal:\", highn_count)\n",
    "print(\"Hypertension:\", hyper_count)"
   ]
  },
  {
   "cell_type": "code",
   "execution_count": 19,
   "metadata": {},
   "outputs": [
    {
     "name": "stdout",
     "output_type": "stream",
     "text": [
      "Serum Cholesterol Range: 0 - 602 mg/dL\n",
      "Optimal: 144\n",
      "Elevated: 71\n",
      "High: 605\n"
     ]
    }
   ],
   "source": [
    "# 5. What percentage of patients have cholesterol greater than 240 mg/dl?\n",
    "\n",
    "#  Here are the ranges for total cholesterol in adults: \n",
    "# Optimal: < 200 mg/dL.\n",
    "# Elevated: 200 - 239 mg/dL. \n",
    "# High: >= 240 mg/dL.\n",
    "\n",
    "serumchol_range = f\"Serum Cholesterol Range: {df['serumcholestrol'].min()} - {df['serumcholestrol'].max()} mg/dL\"\n",
    "print(serumchol_range)\n",
    "\n",
    "# Function to count cholesterol levels\n",
    "def count_cholesterol(value):\n",
    "    global optimal_count, elevated_count, high_count\n",
    "    \n",
    "    if value < 200:\n",
    "        optimal_count += 1\n",
    "    elif 200 <= value < 240:\n",
    "        elevated_count += 1\n",
    "    elif value >= 240:\n",
    "        high_count += 1\n",
    "\n",
    "# Example dataset\n",
    "serumcholesterol_values = df['serumcholestrol']\n",
    "\n",
    "# Initialize counters\n",
    "optimal_count = 0\n",
    "elevated_count = 0\n",
    "high_count = 0\n",
    "\n",
    "# Count cholesterol levels\n",
    "for value in serumcholesterol_values:\n",
    "    count_cholesterol(value)\n",
    "    \n",
    "# Print the counts\n",
    "print(\"Optimal:\", optimal_count)\n",
    "print(\"Elevated:\", elevated_count)\n",
    "print(\"High:\", high_count)\n"
   ]
  },
  {
   "cell_type": "code",
   "execution_count": 20,
   "metadata": {},
   "outputs": [
    {
     "name": "stdout",
     "output_type": "stream",
     "text": [
      "Percentage of patients with fasting blood sugar > 120 mg/dl: 33.54%\n"
     ]
    }
   ],
   "source": [
    "# 6. What percentage of patients have fasting blood sugar greater than 120 mg/dl?\n",
    "\n",
    "# The expected values for normal fasting blood glucose concentration are between 70 mg/dL (3.9 mmol/L) and 100 mg/dL (5.6 mmol/L). \n",
    "# When fasting blood glucose is between 100 to 125 mg/dL (5.6 to 6.9 mmol/L) changes in lifestyle and monitoring glycemia are recommended.\n",
    "# If fasting blood glucose is 126 mg/dL (7 mmol/L) or higher on two separate tests, diabetes is diagnosed.\n",
    "\n",
    "percentage_high_fasting_sugar = (df['fastingbloodsugar'].sum() / len(df)) * 100\n",
    "print(f\"Percentage of patients with fasting blood sugar > 120 mg/dl: {percentage_high_fasting_sugar:.2f}%\")"
   ]
  },
  {
   "cell_type": "code",
   "execution_count": 21,
   "metadata": {},
   "outputs": [
    {
     "name": "stdout",
     "output_type": "stream",
     "text": [
      "Predominant Resting Electrocardiogram Results in the Dataset:\n",
      "abnormality    488\n",
      "normal         332\n",
      "Name: restingrelectro, dtype: int64\n"
     ]
    }
   ],
   "source": [
    "# 7. What are the predominant resting electrocardiogram results in the dataset?\n",
    "# 0 (normal), 1 (abnormality)\n",
    "\n",
    "# Define a dictionary to map numerical values to their corresponding labels\n",
    "resting_electro_labels = {0: 'normal', 1: 'abnormality'}\n",
    "# Get the counts of resting electrocardiogram results and map the values to labels\n",
    "resting_electro_counts = df['restingrelectro'].map(resting_electro_labels).value_counts()\n",
    "\n",
    "# Print the results\n",
    "print(\"Predominant Resting Electrocardiogram Results in the Dataset:\")\n",
    "print(resting_electro_counts)"
   ]
  },
  {
   "cell_type": "code",
   "execution_count": 22,
   "metadata": {
    "scrolled": true
   },
   "outputs": [
    {
     "name": "stdout",
     "output_type": "stream",
     "text": [
      "Average Maximum Heart Rate: 147.23\n"
     ]
    }
   ],
   "source": [
    "# 8. What is the average maximum heart rate achieved by the patients on average?\n",
    "average_max_heart_rate = df['maxheartrate'].mean()\n",
    "print(f\"Average Maximum Heart Rate: {average_max_heart_rate:.2f}\")"
   ]
  },
  {
   "cell_type": "code",
   "execution_count": 23,
   "metadata": {},
   "outputs": [
    {
     "data": {
      "image/png": "[encoded data removed]",
      "text/plain": [
       "<Figure size 800x400 with 1 Axes>"
      ]
     },
     "metadata": {},
     "output_type": "display_data"
    }
   ],
   "source": [
    "# 9. How is the slope of the peak exercise ST segment distributed in the dataset?\n",
    "# (1: upsloping, 2: flat, 3: downsloping)\n",
    "plt.figure(figsize=(8, 4))\n",
    "ax = sns.countplot(x='slope', data=df, palette='viridis')\n",
    "plt.title('Distribution of Slope of Peak Exercise ST Segment')\n",
    "plt.xlabel('Slope')\n",
    "plt.ylabel('Count')\n",
    "\n",
    "plt.show()"
   ]
  },
  {
   "cell_type": "code",
   "execution_count": 24,
   "metadata": {
    "execution": {
     "iopub.execute_input": "2024-03-28T20:27:28.229254Z",
     "iopub.status.busy": "2024-03-28T20:27:28.228423Z",
     "iopub.status.idle": "2024-03-28T20:27:28.719347Z",
     "shell.execute_reply": "2024-03-28T20:27:28.718219Z",
     "shell.execute_reply.started": "2024-03-28T20:27:28.229215Z"
    }
   },
   "outputs": [
    {
     "data": {
      "image/png": "[encoded data removed]",
      "text/plain": [
       "<Figure size 800x400 with 1 Axes>"
      ]
     },
     "metadata": {},
     "output_type": "display_data"
    }
   ],
   "source": [
    "# Visualization\n",
    "plt.figure(figsize=(8, 4))\n",
    "sns.barplot(x='chestpain', y='maxheartrate', data=df, palette='viridis')\n",
    "plt.title('Maximum Heart Rate by Chest Pain Type')\n",
    "plt.xlabel('Chest Pain Type')\n",
    "plt.ylabel('Maximum Heart Rate')\n",
    "plt.show()"
   ]
  },
  {
   "cell_type": "markdown",
   "metadata": {},
   "source": [
    "\n",
    "#### Report\n",
    "* The visualization above shows the maximum heart rate by chest pain type.\n",
    "* It appears that there is some variation in maximum heart rate across different types of chest pain, with \"asymptomatic\" chest pain showing the highest maximum heart rate, followed by \"atypical angina,\" \"non-anginal pain,\" and \"typical angina.\""
   ]
  },
  {
   "cell_type": "code",
   "execution_count": 25,
   "metadata": {
    "execution": {
     "iopub.execute_input": "2024-03-28T20:36:37.746618Z",
     "iopub.status.busy": "2024-03-28T20:36:37.746148Z",
     "iopub.status.idle": "2024-03-28T20:36:38.076564Z",
     "shell.execute_reply": "2024-03-28T20:36:38.074925Z",
     "shell.execute_reply.started": "2024-03-28T20:36:37.746587Z"
    }
   },
   "outputs": [
    {
     "data": {
      "image/png": "[encoded data removed]",
      "text/plain": [
       "<Figure size 800x400 with 1 Axes>"
      ]
     },
     "metadata": {},
     "output_type": "display_data"
    }
   ],
   "source": [
    "# 10. Analyze the maximum heart rate (maxheartrate) for each age group and check for any abnormalities\n",
    "# Group data by Age and calculate the maximum heart rate for each age group\n",
    "max_heart_rate_by_age = df.groupby('age')['maxheartrate'].max().reset_index()\n",
    "\n",
    "# Plotting\n",
    "plt.figure(figsize=(8, 4))\n",
    "plt.plot(max_heart_rate_by_age['age'], max_heart_rate_by_age['maxheartrate'], marker='o', linestyle='-')\n",
    "plt.title('Maximum Heart Rate by Age')\n",
    "plt.xlabel('Age')\n",
    "plt.ylabel('Maximum Heart Rate')\n",
    "plt.grid(True)\n",
    "plt.show()"
   ]
  },
  {
   "cell_type": "markdown",
   "metadata": {},
   "source": [
    "#### Report\n",
    "* The plot above illustrates the maximum heart rate achieved by patients across different age groups.\n",
    "* There doesn't appear to be any significant abnormalities in the maximum heart rate trends across age groups. However, there is a general decreasing trend in maximum heart rate with increasing age, which is expected due to physiological changes associated with aging."
   ]
  },
  {
   "cell_type": "code",
   "execution_count": 26,
   "metadata": {
    "execution": {
     "iopub.execute_input": "2024-03-28T20:39:19.894889Z",
     "iopub.status.busy": "2024-03-28T20:39:19.893827Z",
     "iopub.status.idle": "2024-03-28T20:39:19.901111Z",
     "shell.execute_reply": "2024-03-28T20:39:19.900329Z",
     "shell.execute_reply.started": "2024-03-28T20:39:19.894855Z"
    }
   },
   "outputs": [
    {
     "name": "stdout",
     "output_type": "stream",
     "text": [
      "Percentage of Patients with Heart Disease: 70.73%\n"
     ]
    }
   ],
   "source": [
    "# 11. What percentage of patients in the dataset have heart disease (target = 1)?\n",
    "percentage_heart_disease = (df['target'].sum() / len(df)) * 100\n",
    "print(f\"Percentage of Patients with Heart Disease: {percentage_heart_disease:.2f}%\")"
   ]
  },
  {
   "cell_type": "markdown",
   "metadata": {},
   "source": [
    "#### Report\n",
    "* Approximately 71.96% of patients in the dataset have heart disease (target = 1)."
   ]
  },
  {
   "cell_type": "code",
   "execution_count": 27,
   "metadata": {
    "execution": {
     "iopub.execute_input": "2024-03-28T20:39:47.586662Z",
     "iopub.status.busy": "2024-03-28T20:39:47.585671Z",
     "iopub.status.idle": "2024-03-28T20:39:48.069580Z",
     "shell.execute_reply": "2024-03-28T20:39:48.068219Z",
     "shell.execute_reply.started": "2024-03-28T20:39:47.586606Z"
    }
   },
   "outputs": [
    {
     "data": {
      "image/png": "[encoded data removed]",
      "text/plain": [
       "<Figure size 800x400 with 1 Axes>"
      ]
     },
     "metadata": {},
     "output_type": "display_data"
    }
   ],
   "source": [
    "# Visualization:\n",
    "plt.figure(figsize=(8, 4))\n",
    "sns.histplot(x='age', hue='gender', data=df, palette='muted', multiple='stack', bins=15)\n",
    "plt.title('Age Distribution by Gender')\n",
    "plt.xlabel('Age')\n",
    "plt.ylabel('Count')\n",
    "plt.legend(title='Gender', labels=['Female', 'Male'])\n",
    "plt.show()"
   ]
  },
  {
   "cell_type": "markdown",
   "metadata": {},
   "source": [
    "#### Report \n",
    "* The histogram above displays the distribution of age among patients, categorized by gender.\n",
    "* It indicates the count of patients within each age group, with separate bars for female and male patients."
   ]
  },
  {
   "cell_type": "code",
   "execution_count": 28,
   "metadata": {
    "execution": {
     "iopub.execute_input": "2024-03-28T20:40:16.070238Z",
     "iopub.status.busy": "2024-03-28T20:40:16.069774Z",
     "iopub.status.idle": "2024-03-28T20:40:16.079045Z",
     "shell.execute_reply": "2024-03-28T20:40:16.077810Z",
     "shell.execute_reply.started": "2024-03-28T20:40:16.070200Z"
    }
   },
   "outputs": [
    {
     "name": "stdout",
     "output_type": "stream",
     "text": [
      "Details of the Oldest Patient:\n",
      "patientid            1780544\n",
      "age                       80\n",
      "gender                     1\n",
      "chestpain                  0\n",
      "restingBP                126\n",
      "serumcholestrol          427\n",
      "fastingbloodsugar          1\n",
      "restingrelectro            0\n",
      "maxheartrate             145\n",
      "slope                      2\n",
      "target                     1\n",
      "Name: 177, dtype: int64\n"
     ]
    }
   ],
   "source": [
    "# 12. Can you identify the patient with the highest age in the dataset?\n",
    "oldest_patient = df.loc[df['age'].idxmax()]\n",
    "print(f\"Details of the Oldest Patient:\\n{oldest_patient}\")"
   ]
  },
  {
   "cell_type": "code",
   "execution_count": 29,
   "metadata": {
    "execution": {
     "iopub.execute_input": "2024-03-28T20:40:35.697617Z",
     "iopub.status.busy": "2024-03-28T20:40:35.697170Z",
     "iopub.status.idle": "2024-03-28T20:40:35.707159Z",
     "shell.execute_reply": "2024-03-28T20:40:35.705667Z",
     "shell.execute_reply.started": "2024-03-28T20:40:35.697580Z"
    }
   },
   "outputs": [
    {
     "name": "stdout",
     "output_type": "stream",
     "text": [
      "Details of the Patient with the Lowest Resting Blood Pressure:\n",
      "patientid            119250\n",
      "age                      40\n",
      "gender                    1\n",
      "chestpain                 0\n",
      "restingBP                94\n",
      "serumcholestrol         229\n",
      "fastingbloodsugar         0\n",
      "restingrelectro           1\n",
      "maxheartrate            115\n",
      "slope                     1\n",
      "target                    0\n",
      "Name: 1, dtype: int64\n"
     ]
    }
   ],
   "source": [
    "# 13. Who is the patient with the lowest resting blood pressure?\n",
    "lowest_bp_patient = df.loc[df['restingBP'].idxmin()]\n",
    "print(f\"Details of the Patient with the Lowest Resting Blood Pressure:\\n{lowest_bp_patient}\")"
   ]
  },
  {
   "cell_type": "code",
   "execution_count": 30,
   "metadata": {
    "execution": {
     "iopub.execute_input": "2024-03-28T20:41:55.977719Z",
     "iopub.status.busy": "2024-03-28T20:41:55.977286Z",
     "iopub.status.idle": "2024-03-28T20:41:56.301593Z",
     "shell.execute_reply": "2024-03-28T20:41:56.300193Z",
     "shell.execute_reply.started": "2024-03-28T20:41:55.977689Z"
    }
   },
   "outputs": [
    {
     "data": {
      "image/png": "[encoded data removed]",
      "text/plain": [
       "<Figure size 800x400 with 1 Axes>"
      ]
     },
     "metadata": {},
     "output_type": "display_data"
    }
   ],
   "source": [
    "# 14. Is there a relationship between chest pain type and the presence of heart disease?\n",
    "plt.figure(figsize=(8, 4))\n",
    "sns.countplot(x='chestpain', hue='target', data=df, palette='Set1')\n",
    "plt.title('Heart Disease Presence by Chest Pain Type')\n",
    "plt.xlabel('Chest Pain Type')\n",
    "plt.ylabel('Count')\n",
    "plt.legend(title='Heart Disease', labels=['No', 'Yes'])\n",
    "plt.show()"
   ]
  },
  {
   "cell_type": "markdown",
   "metadata": {},
   "source": [
    "#### Report\n",
    "* The count plot above illustrates the relationship between chest pain type and the presence of heart disease.\n",
    "* It appears that individuals with atypical angina (chest pain type 1) and non-anginal pain (chest pain type 2) have a higher likelihood of having heart disease compared to those with typical angina (chest pain type 0) and asymptomatic chest pain (chest pain type 3)."
   ]
  },
  {
   "cell_type": "code",
   "execution_count": 31,
   "metadata": {
    "execution": {
     "iopub.execute_input": "2024-03-28T20:43:33.457906Z",
     "iopub.status.busy": "2024-03-28T20:43:33.457302Z",
     "iopub.status.idle": "2024-03-28T20:43:33.951247Z",
     "shell.execute_reply": "2024-03-28T20:43:33.949865Z",
     "shell.execute_reply.started": "2024-03-28T20:43:33.457866Z"
    }
   },
   "outputs": [
    {
     "data": {
      "image/png": "[encoded data removed]",
      "text/plain": [
       "<Figure size 800x400 with 1 Axes>"
      ]
     },
     "metadata": {},
     "output_type": "display_data"
    }
   ],
   "source": [
    "# 15. Distruibution of max heart rate by gender and heart disease presence \n",
    "plt.figure(figsize=(8, 4))\n",
    "sns.barplot(x='gender', y='maxheartrate', hue='target', data=df, palette='mako')\n",
    "plt.title('Max Heart Rate by Gender and Heart Disease Presence')\n",
    "plt.xlabel('Gender')\n",
    "plt.ylabel('Max Heart Rate')\n",
    "plt.legend(title='Heart Disease', labels=['No', 'Yes'])\n",
    "plt.show()"
   ]
  },
  {
   "cell_type": "markdown",
   "metadata": {},
   "source": [
    "#### Report\n",
    "* The bar plot above illustrates the distribution of maximum heart rate by gender and heart disease presence.\n",
    "* Across both genders, individuals with heart disease tend to have slightly lower maximum heart rates compared to those without heart disease.\n",
    "* Among males, the difference in maximum heart rate between those with and without heart disease is more pronounced compared to females."
   ]
  },
  {
   "cell_type": "markdown",
   "metadata": {},
   "source": [
    "# Target Categorization"
   ]
  },
  {
   "cell_type": "code",
   "execution_count": 32,
   "metadata": {
    "execution": {
     "iopub.execute_input": "2024-03-28T20:45:06.578479Z",
     "iopub.status.busy": "2024-03-28T20:45:06.577943Z",
     "iopub.status.idle": "2024-03-28T20:45:06.604715Z",
     "shell.execute_reply": "2024-03-28T20:45:06.603320Z",
     "shell.execute_reply.started": "2024-03-28T20:45:06.578444Z"
    }
   },
   "outputs": [
    {
     "data": {
      "text/html": [
       "<div>\n",
       "<style scoped>\n",
       "    .dataframe tbody tr th:only-of-type {\n",
       "        vertical-align: middle;\n",
       "    }\n",
       "\n",
       "    .dataframe tbody tr th {\n",
       "        vertical-align: top;\n",
       "    }\n",
       "\n",
       "    .dataframe thead th {\n",
       "        text-align: right;\n",
       "    }\n",
       "</style>\n",
       "<table border=\"1\" class=\"dataframe\">\n",
       "  <thead>\n",
       "    <tr style=\"text-align: right;\">\n",
       "      <th></th>\n",
       "      <th>patientid</th>\n",
       "      <th>age</th>\n",
       "      <th>gender</th>\n",
       "      <th>chestpain</th>\n",
       "      <th>restingBP</th>\n",
       "      <th>serumcholestrol</th>\n",
       "      <th>fastingbloodsugar</th>\n",
       "      <th>restingrelectro</th>\n",
       "      <th>maxheartrate</th>\n",
       "      <th>slope</th>\n",
       "      <th>target</th>\n",
       "    </tr>\n",
       "  </thead>\n",
       "  <tbody>\n",
       "    <tr>\n",
       "      <th>0</th>\n",
       "      <td>103368</td>\n",
       "      <td>53</td>\n",
       "      <td>1</td>\n",
       "      <td>0</td>\n",
       "      <td>171</td>\n",
       "      <td>0</td>\n",
       "      <td>0</td>\n",
       "      <td>1</td>\n",
       "      <td>147</td>\n",
       "      <td>3</td>\n",
       "      <td>Presence of Heart Disease</td>\n",
       "    </tr>\n",
       "    <tr>\n",
       "      <th>1</th>\n",
       "      <td>119250</td>\n",
       "      <td>40</td>\n",
       "      <td>1</td>\n",
       "      <td>0</td>\n",
       "      <td>94</td>\n",
       "      <td>229</td>\n",
       "      <td>0</td>\n",
       "      <td>1</td>\n",
       "      <td>115</td>\n",
       "      <td>1</td>\n",
       "      <td>Absence of Heart Disease</td>\n",
       "    </tr>\n",
       "    <tr>\n",
       "      <th>2</th>\n",
       "      <td>119372</td>\n",
       "      <td>49</td>\n",
       "      <td>1</td>\n",
       "      <td>0</td>\n",
       "      <td>133</td>\n",
       "      <td>142</td>\n",
       "      <td>0</td>\n",
       "      <td>0</td>\n",
       "      <td>202</td>\n",
       "      <td>1</td>\n",
       "      <td>Absence of Heart Disease</td>\n",
       "    </tr>\n",
       "    <tr>\n",
       "      <th>3</th>\n",
       "      <td>132514</td>\n",
       "      <td>43</td>\n",
       "      <td>1</td>\n",
       "      <td>0</td>\n",
       "      <td>138</td>\n",
       "      <td>295</td>\n",
       "      <td>1</td>\n",
       "      <td>1</td>\n",
       "      <td>153</td>\n",
       "      <td>2</td>\n",
       "      <td>Presence of Heart Disease</td>\n",
       "    </tr>\n",
       "    <tr>\n",
       "      <th>4</th>\n",
       "      <td>146211</td>\n",
       "      <td>31</td>\n",
       "      <td>1</td>\n",
       "      <td>0</td>\n",
       "      <td>199</td>\n",
       "      <td>0</td>\n",
       "      <td>0</td>\n",
       "      <td>1</td>\n",
       "      <td>136</td>\n",
       "      <td>3</td>\n",
       "      <td>Presence of Heart Disease</td>\n",
       "    </tr>\n",
       "  </tbody>\n",
       "</table>\n",
       "</div>"
      ],
      "text/plain": [
       "   patientid  age  gender  chestpain  restingBP  serumcholestrol  \\\n",
       "0     103368   53       1          0        171                0   \n",
       "1     119250   40       1          0         94              229   \n",
       "2     119372   49       1          0        133              142   \n",
       "3     132514   43       1          0        138              295   \n",
       "4     146211   31       1          0        199                0   \n",
       "\n",
       "   fastingbloodsugar  restingrelectro  maxheartrate  slope  \\\n",
       "0                  0                1           147      3   \n",
       "1                  0                1           115      1   \n",
       "2                  0                0           202      1   \n",
       "3                  1                1           153      2   \n",
       "4                  0                1           136      3   \n",
       "\n",
       "                      target  \n",
       "0  Presence of Heart Disease  \n",
       "1   Absence of Heart Disease  \n",
       "2   Absence of Heart Disease  \n",
       "3  Presence of Heart Disease  \n",
       "4  Presence of Heart Disease  "
      ]
     },
     "execution_count": 32,
     "metadata": {},
     "output_type": "execute_result"
    }
   ],
   "source": [
    "df = df.replace({'target': {0: 'Absence of Heart Disease',  1: 'Presence of Heart Disease'}})\n",
    "df.head()"
   ]
  },
  {
   "cell_type": "markdown",
   "metadata": {},
   "source": [
    "# Data Normalization\n",
    "* The main objective of database normalization is to eliminate redundancy, minimize data modification errors, and simplify the query process.\n",
    "* Normalization is useful in statistics for creating a common scale to compare data sets with very different values."
   ]
  },
  {
   "cell_type": "code",
   "execution_count": 33,
   "metadata": {
    "execution": {
     "iopub.execute_input": "2024-03-28T20:45:10.420286Z",
     "iopub.status.busy": "2024-03-28T20:45:10.419854Z",
     "iopub.status.idle": "2024-03-28T20:45:10.492941Z",
     "shell.execute_reply": "2024-03-28T20:45:10.491409Z",
     "shell.execute_reply.started": "2024-03-28T20:45:10.420254Z"
    }
   },
   "outputs": [
    {
     "data": {
      "text/html": [
       "<div>\n",
       "<style scoped>\n",
       "    .dataframe tbody tr th:only-of-type {\n",
       "        vertical-align: middle;\n",
       "    }\n",
       "\n",
       "    .dataframe tbody tr th {\n",
       "        vertical-align: top;\n",
       "    }\n",
       "\n",
       "    .dataframe thead th {\n",
       "        text-align: right;\n",
       "    }\n",
       "</style>\n",
       "<table border=\"1\" class=\"dataframe\">\n",
       "  <thead>\n",
       "    <tr style=\"text-align: right;\">\n",
       "      <th></th>\n",
       "      <th>count</th>\n",
       "      <th>mean</th>\n",
       "      <th>std</th>\n",
       "      <th>min</th>\n",
       "      <th>25%</th>\n",
       "      <th>50%</th>\n",
       "      <th>75%</th>\n",
       "      <th>max</th>\n",
       "    </tr>\n",
       "  </thead>\n",
       "  <tbody>\n",
       "    <tr>\n",
       "      <th>patientid</th>\n",
       "      <td>820.0</td>\n",
       "      <td>0.499886</td>\n",
       "      <td>0.292330</td>\n",
       "      <td>0.0</td>\n",
       "      <td>0.246134</td>\n",
       "      <td>0.487405</td>\n",
       "      <td>0.765707</td>\n",
       "      <td>1.0</td>\n",
       "    </tr>\n",
       "    <tr>\n",
       "      <th>age</th>\n",
       "      <td>820.0</td>\n",
       "      <td>0.485102</td>\n",
       "      <td>0.293871</td>\n",
       "      <td>0.0</td>\n",
       "      <td>0.233333</td>\n",
       "      <td>0.475000</td>\n",
       "      <td>0.733333</td>\n",
       "      <td>1.0</td>\n",
       "    </tr>\n",
       "    <tr>\n",
       "      <th>gender</th>\n",
       "      <td>820.0</td>\n",
       "      <td>0.740244</td>\n",
       "      <td>0.438768</td>\n",
       "      <td>0.0</td>\n",
       "      <td>0.000000</td>\n",
       "      <td>1.000000</td>\n",
       "      <td>1.000000</td>\n",
       "      <td>1.0</td>\n",
       "    </tr>\n",
       "    <tr>\n",
       "      <th>chestpain</th>\n",
       "      <td>820.0</td>\n",
       "      <td>0.050000</td>\n",
       "      <td>0.218078</td>\n",
       "      <td>0.0</td>\n",
       "      <td>0.000000</td>\n",
       "      <td>0.000000</td>\n",
       "      <td>0.000000</td>\n",
       "      <td>1.0</td>\n",
       "    </tr>\n",
       "    <tr>\n",
       "      <th>restingBP</th>\n",
       "      <td>820.0</td>\n",
       "      <td>0.585113</td>\n",
       "      <td>0.272270</td>\n",
       "      <td>0.0</td>\n",
       "      <td>0.367925</td>\n",
       "      <td>0.575472</td>\n",
       "      <td>0.849057</td>\n",
       "      <td>1.0</td>\n",
       "    </tr>\n",
       "    <tr>\n",
       "      <th>serumcholestrol</th>\n",
       "      <td>820.0</td>\n",
       "      <td>0.530326</td>\n",
       "      <td>0.232890</td>\n",
       "      <td>0.0</td>\n",
       "      <td>0.390365</td>\n",
       "      <td>0.549003</td>\n",
       "      <td>0.705565</td>\n",
       "      <td>1.0</td>\n",
       "    </tr>\n",
       "    <tr>\n",
       "      <th>fastingbloodsugar</th>\n",
       "      <td>820.0</td>\n",
       "      <td>0.335366</td>\n",
       "      <td>0.472406</td>\n",
       "      <td>0.0</td>\n",
       "      <td>0.000000</td>\n",
       "      <td>0.000000</td>\n",
       "      <td>1.000000</td>\n",
       "      <td>1.0</td>\n",
       "    </tr>\n",
       "    <tr>\n",
       "      <th>restingrelectro</th>\n",
       "      <td>820.0</td>\n",
       "      <td>0.595122</td>\n",
       "      <td>0.491168</td>\n",
       "      <td>0.0</td>\n",
       "      <td>0.000000</td>\n",
       "      <td>1.000000</td>\n",
       "      <td>1.000000</td>\n",
       "      <td>1.0</td>\n",
       "    </tr>\n",
       "    <tr>\n",
       "      <th>maxheartrate</th>\n",
       "      <td>820.0</td>\n",
       "      <td>0.581894</td>\n",
       "      <td>0.246039</td>\n",
       "      <td>0.0</td>\n",
       "      <td>0.404580</td>\n",
       "      <td>0.587786</td>\n",
       "      <td>0.793893</td>\n",
       "      <td>1.0</td>\n",
       "    </tr>\n",
       "    <tr>\n",
       "      <th>slope</th>\n",
       "      <td>820.0</td>\n",
       "      <td>0.439024</td>\n",
       "      <td>0.385087</td>\n",
       "      <td>0.0</td>\n",
       "      <td>0.000000</td>\n",
       "      <td>0.500000</td>\n",
       "      <td>0.500000</td>\n",
       "      <td>1.0</td>\n",
       "    </tr>\n",
       "  </tbody>\n",
       "</table>\n",
       "</div>"
      ],
      "text/plain": [
       "                   count      mean       std  min       25%       50%  \\\n",
       "patientid          820.0  0.499886  0.292330  0.0  0.246134  0.487405   \n",
       "age                820.0  0.485102  0.293871  0.0  0.233333  0.475000   \n",
       "gender             820.0  0.740244  0.438768  0.0  0.000000  1.000000   \n",
       "chestpain          820.0  0.050000  0.218078  0.0  0.000000  0.000000   \n",
       "restingBP          820.0  0.585113  0.272270  0.0  0.367925  0.575472   \n",
       "serumcholestrol    820.0  0.530326  0.232890  0.0  0.390365  0.549003   \n",
       "fastingbloodsugar  820.0  0.335366  0.472406  0.0  0.000000  0.000000   \n",
       "restingrelectro    820.0  0.595122  0.491168  0.0  0.000000  1.000000   \n",
       "maxheartrate       820.0  0.581894  0.246039  0.0  0.404580  0.587786   \n",
       "slope              820.0  0.439024  0.385087  0.0  0.000000  0.500000   \n",
       "\n",
       "                        75%  max  \n",
       "patientid          0.765707  1.0  \n",
       "age                0.733333  1.0  \n",
       "gender             1.000000  1.0  \n",
       "chestpain          0.000000  1.0  \n",
       "restingBP          0.849057  1.0  \n",
       "serumcholestrol    0.705565  1.0  \n",
       "fastingbloodsugar  1.000000  1.0  \n",
       "restingrelectro    1.000000  1.0  \n",
       "maxheartrate       0.793893  1.0  \n",
       "slope              0.500000  1.0  "
      ]
     },
     "execution_count": 33,
     "metadata": {},
     "output_type": "execute_result"
    }
   ],
   "source": [
    "# this code segment prepares the data for machine learning by : \n",
    "# separating features and the target variable, \n",
    "# scaling the features using Min-Max scaling, \n",
    "# creating a new DataFrame with the scaled features, \n",
    "# and providing descriptive statistics of the scaled features.\n",
    "\n",
    "X_disease = df.drop(columns='target')\n",
    "y = df.target\n",
    "scaler = MinMaxScaler(feature_range=(0, 1)).fit_transform(X_disease)\n",
    "X = pd.DataFrame(scaler, columns=X_disease.columns)\n",
    "X.describe().T"
   ]
  },
  {
   "cell_type": "markdown",
   "metadata": {},
   "source": [
    "# Machine Learning Models\n",
    "* Random Forest Classification\n",
    "* Logistic Regression\n",
    "* Support Vector Classifier (SVC)\n",
    "* Descision Tree Classification\n",
    "* KNeighbors Classifier\n",
    "* Gaussian Naive Bayes\n",
    "\n",
    "Accuracy : Is the metric to evaluate how correcct the model is to predict the values.\n",
    "Accuracy = (true_positive + true_negative) / (true_positive + false_positive + false_negative + true_negative)\n",
    "\n",
    "Precision : Out of all actual values, how many are correctly predicted\n",
    "Precision = true_positive/(true_positive+false_positive)\n",
    "\n",
    "Recall : From all the predicted values how many are correctly predicted.\n",
    "Recall = true_positive/(true_positive+false_negative)\n",
    "\n",
    "F1 score : Is the best choice if your distrubution is uneven.\n",
    "F1_score = 2*(Recall * Precision)/(Recall + Precision)\n"
   ]
  },
  {
   "cell_type": "code",
   "execution_count": 34,
   "metadata": {
    "execution": {
     "iopub.execute_input": "2024-03-28T20:45:15.618611Z",
     "iopub.status.busy": "2024-03-28T20:45:15.617088Z",
     "iopub.status.idle": "2024-03-28T20:45:15.629979Z",
     "shell.execute_reply": "2024-03-28T20:45:15.628418Z",
     "shell.execute_reply.started": "2024-03-28T20:45:15.618557Z"
    }
   },
   "outputs": [
    {
     "data": {
      "text/plain": [
       "Presence of Heart Disease    580\n",
       "Absence of Heart Disease     240\n",
       "Name: target, dtype: int64"
      ]
     },
     "execution_count": 34,
     "metadata": {},
     "output_type": "execute_result"
    }
   ],
   "source": [
    "df.target.value_counts()"
   ]
  },
  {
   "cell_type": "code",
   "execution_count": 35,
   "metadata": {
    "execution": {
     "iopub.execute_input": "2024-03-28T20:45:33.511780Z",
     "iopub.status.busy": "2024-03-28T20:45:33.510595Z",
     "iopub.status.idle": "2024-03-28T20:45:33.522350Z",
     "shell.execute_reply": "2024-03-28T20:45:33.520865Z",
     "shell.execute_reply.started": "2024-03-28T20:45:33.511727Z"
    }
   },
   "outputs": [],
   "source": [
    "# Split Dataframe\n",
    "X_train, X_test, y_train, y_test = train_test_split(X, y, test_size=0.25, random_state=0)"
   ]
  },
  {
   "cell_type": "code",
   "execution_count": 36,
   "metadata": {
    "execution": {
     "iopub.execute_input": "2024-03-28T20:45:36.237277Z",
     "iopub.status.busy": "2024-03-28T20:45:36.236810Z",
     "iopub.status.idle": "2024-03-28T20:45:36.250625Z",
     "shell.execute_reply": "2024-03-28T20:45:36.249355Z",
     "shell.execute_reply.started": "2024-03-28T20:45:36.237246Z"
    }
   },
   "outputs": [],
   "source": [
    "#feature Scaling  \n",
    "st_x= StandardScaler()    \n",
    "X_train= st_x.fit_transform(X_train)    \n",
    "X_test= st_x.transform(X_test)    "
   ]
  },
  {
   "cell_type": "markdown",
   "metadata": {},
   "source": [
    "# Random Forest Classifier"
   ]
  },
  {
   "cell_type": "code",
   "execution_count": 37,
   "metadata": {
    "execution": {
     "iopub.execute_input": "2024-03-28T20:45:41.819475Z",
     "iopub.status.busy": "2024-03-28T20:45:41.818983Z",
     "iopub.status.idle": "2024-03-28T20:45:43.304803Z",
     "shell.execute_reply": "2024-03-28T20:45:43.303347Z",
     "shell.execute_reply.started": "2024-03-28T20:45:41.819442Z"
    }
   },
   "outputs": [
    {
     "data": {
      "text/plain": [
       "RandomForestClassifier(criterion='entropy', max_features='log2',\n",
       "                       n_estimators=500)"
      ]
     },
     "execution_count": 37,
     "metadata": {},
     "output_type": "execute_result"
    }
   ],
   "source": [
    "#Fitting Decision Tree classifier to the training set  \n",
    "rf_classifier= RandomForestClassifier(n_estimators= 500, criterion=\"entropy\", max_features='log2')  \n",
    "rf_classifier.fit(X_train, y_train)"
   ]
  },
  {
   "cell_type": "code",
   "execution_count": 38,
   "metadata": {
    "execution": {
     "iopub.execute_input": "2024-03-28T20:45:45.569646Z",
     "iopub.status.busy": "2024-03-28T20:45:45.568441Z",
     "iopub.status.idle": "2024-03-28T20:45:45.628663Z",
     "shell.execute_reply": "2024-03-28T20:45:45.627240Z",
     "shell.execute_reply.started": "2024-03-28T20:45:45.569605Z"
    }
   },
   "outputs": [],
   "source": [
    "#Predicting the test set result  \n",
    "y_pred_rf= rf_classifier.predict(X_test) "
   ]
  },
  {
   "cell_type": "code",
   "execution_count": 39,
   "metadata": {
    "execution": {
     "iopub.execute_input": "2024-03-28T20:48:40.119576Z",
     "iopub.status.busy": "2024-03-28T20:48:40.119017Z",
     "iopub.status.idle": "2024-03-28T20:48:40.150920Z",
     "shell.execute_reply": "2024-03-28T20:48:40.149513Z",
     "shell.execute_reply.started": "2024-03-28T20:48:40.119543Z"
    }
   },
   "outputs": [
    {
     "name": "stdout",
     "output_type": "stream",
     "text": [
      "Classification Report\n",
      "\n",
      "                            precision    recall  f1-score   support\n",
      "\n",
      " Absence of Heart Disease       0.88      0.87      0.88        53\n",
      "Presence of Heart Disease       0.95      0.96      0.96       152\n",
      "\n",
      "                 accuracy                           0.94       205\n",
      "                macro avg       0.92      0.91      0.92       205\n",
      "             weighted avg       0.94      0.94      0.94       205\n",
      "\n"
     ]
    }
   ],
   "source": [
    "print('Classification Report\\n\\n',classification_report(y_test, y_pred_rf))"
   ]
  },
  {
   "cell_type": "code",
   "execution_count": 40,
   "metadata": {
    "execution": {
     "iopub.execute_input": "2024-03-28T20:48:42.655335Z",
     "iopub.status.busy": "2024-03-28T20:48:42.654852Z",
     "iopub.status.idle": "2024-03-28T20:48:42.743593Z",
     "shell.execute_reply": "2024-03-28T20:48:42.742263Z",
     "shell.execute_reply.started": "2024-03-28T20:48:42.655297Z"
    }
   },
   "outputs": [
    {
     "name": "stdout",
     "output_type": "stream",
     "text": [
      "Training score of the RF model is : 100.0 %\n",
      "Accuracy score of the RF model is : 93.66 %\n"
     ]
    }
   ],
   "source": [
    "# Accuracy Score\n",
    "rf_score = round(accuracy_score(y_test, y_pred_rf),4)\n",
    "print(f'Training score of the RF model is : {round(rf_classifier.score(X_train, y_train),3)*100} %')\n",
    "print(f'Accuracy score of the RF model is : {round(round(accuracy_score(y_test, y_pred_rf),4)*100,3)} %')"
   ]
  },
  {
   "cell_type": "code",
   "execution_count": 41,
   "metadata": {
    "execution": {
     "iopub.execute_input": "2024-03-28T20:48:45.037402Z",
     "iopub.status.busy": "2024-03-28T20:48:45.035992Z",
     "iopub.status.idle": "2024-03-28T20:48:45.052051Z",
     "shell.execute_reply": "2024-03-28T20:48:45.050266Z",
     "shell.execute_reply.started": "2024-03-28T20:48:45.037346Z"
    }
   },
   "outputs": [
    {
     "name": "stdout",
     "output_type": "stream",
     "text": [
      "True Positive: 46 \n",
      "True Negative: 146 \n",
      "False Negative: 6 \n",
      "FalsePositive: 7\n"
     ]
    }
   ],
   "source": [
    "# Confusion Matrix\n",
    "conf_mat = confusion_matrix(y_test, y_pred_rf)\n",
    "true_positive = conf_mat[0][0]\n",
    "false_positive = conf_mat[0][1]\n",
    "false_negative = conf_mat[1][0]\n",
    "true_negative = conf_mat[1][1]\n",
    "print('True Positive:',true_positive,'\\nTrue Negative:',true_negative,'\\nFalse Negative:',false_negative, '\\nFalsePositive:',false_positive)"
   ]
  },
  {
   "cell_type": "code",
   "execution_count": 42,
   "metadata": {
    "execution": {
     "iopub.execute_input": "2024-03-28T20:48:47.457902Z",
     "iopub.status.busy": "2024-03-28T20:48:47.457461Z",
     "iopub.status.idle": "2024-03-28T20:48:47.808272Z",
     "shell.execute_reply": "2024-03-28T20:48:47.806803Z",
     "shell.execute_reply.started": "2024-03-28T20:48:47.457872Z"
    }
   },
   "outputs": [
    {
     "data": {
      "image/png": "[encoded data removed]",
      "text/plain": [
       "<Figure size 640x480 with 2 Axes>"
      ]
     },
     "metadata": {},
     "output_type": "display_data"
    }
   ],
   "source": [
    "ax = plt.subplot()\n",
    "ax = sns.heatmap(conf_mat, annot=True, fmt='', cmap=\"Blues\")\n",
    "ax.set_xlabel('Predicted labels', fontsize=18)\n",
    "ax.set_ylabel('True labels', fontsize=18)\n",
    "ax.set_title('Confusion Matrix', fontsize=25)\n",
    "ax.xaxis.set_ticklabels(['Absence of Heart Disease','Presence of Heart Disease'])\n",
    "ax.yaxis.set_ticklabels(['Absence of Heart Disease','Presence of Heart Disease'])\n",
    "plt.show()"
   ]
  },
  {
   "cell_type": "markdown",
   "metadata": {},
   "source": [
    "# Logistic Regression"
   ]
  },
  {
   "cell_type": "code",
   "execution_count": 43,
   "metadata": {
    "execution": {
     "iopub.execute_input": "2024-03-28T20:48:51.636923Z",
     "iopub.status.busy": "2024-03-28T20:48:51.636482Z",
     "iopub.status.idle": "2024-03-28T20:48:51.668236Z",
     "shell.execute_reply": "2024-03-28T20:48:51.666913Z",
     "shell.execute_reply.started": "2024-03-28T20:48:51.636890Z"
    }
   },
   "outputs": [
    {
     "data": {
      "text/plain": [
       "LogisticRegression(C=10, class_weight='balanced')"
      ]
     },
     "execution_count": 43,
     "metadata": {},
     "output_type": "execute_result"
    }
   ],
   "source": [
    "# Fitting Logistic Regression to the training set  \n",
    "lr_classifier= LogisticRegression(C= 10, class_weight= 'balanced', solver= 'lbfgs')  \n",
    "lr_classifier.fit(X_train, y_train)"
   ]
  },
  {
   "cell_type": "code",
   "execution_count": 44,
   "metadata": {
    "execution": {
     "iopub.execute_input": "2024-03-28T20:48:54.341603Z",
     "iopub.status.busy": "2024-03-28T20:48:54.340631Z",
     "iopub.status.idle": "2024-03-28T20:48:54.347413Z",
     "shell.execute_reply": "2024-03-28T20:48:54.346221Z",
     "shell.execute_reply.started": "2024-03-28T20:48:54.341566Z"
    }
   },
   "outputs": [],
   "source": [
    "#Predicting the test set result  \n",
    "y_pred_lr = lr_classifier.predict(X_test)"
   ]
  },
  {
   "cell_type": "code",
   "execution_count": 45,
   "metadata": {
    "execution": {
     "iopub.execute_input": "2024-03-28T20:48:57.962711Z",
     "iopub.status.busy": "2024-03-28T20:48:57.961880Z",
     "iopub.status.idle": "2024-03-28T20:48:57.991273Z",
     "shell.execute_reply": "2024-03-28T20:48:57.989625Z",
     "shell.execute_reply.started": "2024-03-28T20:48:57.962660Z"
    }
   },
   "outputs": [
    {
     "name": "stdout",
     "output_type": "stream",
     "text": [
      "Classification Report\n",
      "\n",
      "                            precision    recall  f1-score   support\n",
      "\n",
      " Absence of Heart Disease       0.73      0.91      0.81        53\n",
      "Presence of Heart Disease       0.96      0.88      0.92       152\n",
      "\n",
      "                 accuracy                           0.89       205\n",
      "                macro avg       0.85      0.89      0.86       205\n",
      "             weighted avg       0.90      0.89      0.89       205\n",
      "\n"
     ]
    }
   ],
   "source": [
    "print('Classification Report\\n\\n',classification_report(y_test, y_pred_lr))"
   ]
  },
  {
   "cell_type": "code",
   "execution_count": 46,
   "metadata": {
    "execution": {
     "iopub.execute_input": "2024-03-28T20:49:00.396762Z",
     "iopub.status.busy": "2024-03-28T20:49:00.396288Z",
     "iopub.status.idle": "2024-03-28T20:49:00.422242Z",
     "shell.execute_reply": "2024-03-28T20:49:00.420400Z",
     "shell.execute_reply.started": "2024-03-28T20:49:00.396727Z"
    }
   },
   "outputs": [
    {
     "name": "stdout",
     "output_type": "stream",
     "text": [
      "Training score of the LR model is : 92.5 %\n",
      "Accuracy score of the LR model is : 88.78 %\n"
     ]
    }
   ],
   "source": [
    "# Accuracy Score\n",
    "lr_score = round(accuracy_score(y_test, y_pred_lr),4)\n",
    "print(f'Training score of the LR model is : {round(lr_classifier.score(X_train, y_train),3)*100} %')\n",
    "print(f'Accuracy score of the LR model is : {round(round(accuracy_score(y_test, y_pred_lr),4)*100,3)} %')"
   ]
  },
  {
   "cell_type": "code",
   "execution_count": 47,
   "metadata": {
    "execution": {
     "iopub.execute_input": "2024-03-28T20:49:03.099329Z",
     "iopub.status.busy": "2024-03-28T20:49:03.098944Z",
     "iopub.status.idle": "2024-03-28T20:49:03.111047Z",
     "shell.execute_reply": "2024-03-28T20:49:03.109598Z",
     "shell.execute_reply.started": "2024-03-28T20:49:03.099300Z"
    }
   },
   "outputs": [
    {
     "name": "stdout",
     "output_type": "stream",
     "text": [
      "True Positive: 48 \n",
      "True Negative: 134 \n",
      "False Negative: 18 \n",
      "FalsePositive: 5\n"
     ]
    }
   ],
   "source": [
    "# Confusion Matrix\n",
    "conf_mat = confusion_matrix(y_test, y_pred_lr)\n",
    "true_positive = conf_mat[0][0]\n",
    "false_positive = conf_mat[0][1]\n",
    "false_negative = conf_mat[1][0]\n",
    "true_negative = conf_mat[1][1]\n",
    "print('True Positive:',true_positive,'\\nTrue Negative:',true_negative,'\\nFalse Negative:',false_negative, '\\nFalsePositive:',false_positive)"
   ]
  },
  {
   "cell_type": "code",
   "execution_count": 48,
   "metadata": {
    "execution": {
     "iopub.execute_input": "2024-03-28T20:49:05.637250Z",
     "iopub.status.busy": "2024-03-28T20:49:05.636258Z",
     "iopub.status.idle": "2024-03-28T20:49:05.951368Z",
     "shell.execute_reply": "2024-03-28T20:49:05.950268Z",
     "shell.execute_reply.started": "2024-03-28T20:49:05.637215Z"
    }
   },
   "outputs": [
    {
     "data": {
      "image/png": "[encoded data removed]",
      "text/plain": [
       "<Figure size 640x480 with 2 Axes>"
      ]
     },
     "metadata": {},
     "output_type": "display_data"
    }
   ],
   "source": [
    "ax = plt.subplot()\n",
    "ax = sns.heatmap(conf_mat, annot=True, fmt='', cmap=\"Blues\")\n",
    "ax.set_xlabel('Predicted labels', fontsize=18)\n",
    "ax.set_ylabel('True labels', fontsize=18)\n",
    "ax.set_title('Confusion Matrix', fontsize=25)\n",
    "ax.xaxis.set_ticklabels(['Absence of Heart Disease','Presence of Heart Disease'])\n",
    "ax.yaxis.set_ticklabels(['Absence of Heart Disease','Presence of Heart Disease'])\n",
    "plt.show()"
   ]
  },
  {
   "cell_type": "markdown",
   "metadata": {},
   "source": [
    "# SVC/SVM Support Vector Machine"
   ]
  },
  {
   "cell_type": "code",
   "execution_count": 49,
   "metadata": {
    "execution": {
     "iopub.execute_input": "2024-03-28T20:49:09.193963Z",
     "iopub.status.busy": "2024-03-28T20:49:09.193523Z",
     "iopub.status.idle": "2024-03-28T20:49:09.226891Z",
     "shell.execute_reply": "2024-03-28T20:49:09.226023Z",
     "shell.execute_reply.started": "2024-03-28T20:49:09.193934Z"
    }
   },
   "outputs": [
    {
     "data": {
      "text/plain": [
       "SVC(C=10, gamma=0.1, kernel='linear', random_state=0)"
      ]
     },
     "execution_count": 49,
     "metadata": {},
     "output_type": "execute_result"
    }
   ],
   "source": [
    "svc_classifier = SVC(C= 10, gamma= 0.1, kernel='linear', random_state=0)  \n",
    "svc_classifier.fit(X_train, y_train)"
   ]
  },
  {
   "cell_type": "code",
   "execution_count": 50,
   "metadata": {
    "execution": {
     "iopub.execute_input": "2024-03-28T20:49:11.681696Z",
     "iopub.status.busy": "2024-03-28T20:49:11.680252Z",
     "iopub.status.idle": "2024-03-28T20:49:11.688050Z",
     "shell.execute_reply": "2024-03-28T20:49:11.686608Z",
     "shell.execute_reply.started": "2024-03-28T20:49:11.681643Z"
    }
   },
   "outputs": [],
   "source": [
    "# Predicting the test set result  \n",
    "y_pred_svc= svc_classifier.predict(X_test)  "
   ]
  },
  {
   "cell_type": "code",
   "execution_count": 51,
   "metadata": {
    "execution": {
     "iopub.execute_input": "2024-03-28T20:49:15.478221Z",
     "iopub.status.busy": "2024-03-28T20:49:15.476812Z",
     "iopub.status.idle": "2024-03-28T20:49:15.507701Z",
     "shell.execute_reply": "2024-03-28T20:49:15.506103Z",
     "shell.execute_reply.started": "2024-03-28T20:49:15.478181Z"
    }
   },
   "outputs": [
    {
     "name": "stdout",
     "output_type": "stream",
     "text": [
      "Classification Report\n",
      "\n",
      "                            precision    recall  f1-score   support\n",
      "\n",
      " Absence of Heart Disease       0.78      0.87      0.82        53\n",
      "Presence of Heart Disease       0.95      0.91      0.93       152\n",
      "\n",
      "                 accuracy                           0.90       205\n",
      "                macro avg       0.87      0.89      0.88       205\n",
      "             weighted avg       0.91      0.90      0.90       205\n",
      "\n"
     ]
    }
   ],
   "source": [
    "print('Classification Report\\n\\n',classification_report(y_test, y_pred_svc))"
   ]
  },
  {
   "cell_type": "code",
   "execution_count": 52,
   "metadata": {
    "execution": {
     "iopub.execute_input": "2024-03-28T20:49:18.139194Z",
     "iopub.status.busy": "2024-03-28T20:49:18.138115Z",
     "iopub.status.idle": "2024-03-28T20:49:18.154385Z",
     "shell.execute_reply": "2024-03-28T20:49:18.153189Z",
     "shell.execute_reply.started": "2024-03-28T20:49:18.139152Z"
    }
   },
   "outputs": [
    {
     "name": "stdout",
     "output_type": "stream",
     "text": [
      "Training score of the SVC model is : 93.2 %\n",
      "Accuracy score of the SVC model is : 90.24 %\n"
     ]
    }
   ],
   "source": [
    "# Accuracy Score\n",
    "svc_score = round(accuracy_score(y_test, y_pred_svc),4)\n",
    "print(f'Training score of the SVC model is : {round(svc_classifier.score(X_train, y_train),3)*100} %')\n",
    "print(f'Accuracy score of the SVC model is : {round(round(accuracy_score(y_test, y_pred_svc),4)*100,3)} %')"
   ]
  },
  {
   "cell_type": "code",
   "execution_count": 53,
   "metadata": {
    "execution": {
     "iopub.execute_input": "2024-03-28T20:49:20.905094Z",
     "iopub.status.busy": "2024-03-28T20:49:20.904696Z",
     "iopub.status.idle": "2024-03-28T20:49:20.917337Z",
     "shell.execute_reply": "2024-03-28T20:49:20.915719Z",
     "shell.execute_reply.started": "2024-03-28T20:49:20.905065Z"
    }
   },
   "outputs": [
    {
     "name": "stdout",
     "output_type": "stream",
     "text": [
      "True Positive: 46 \n",
      "True Negative: 139 \n",
      "False Negative: 13 \n",
      "FalsePositive: 7\n"
     ]
    }
   ],
   "source": [
    "# Confusion Matrix\n",
    "conf_mat = confusion_matrix(y_test, y_pred_svc)\n",
    "true_positive = conf_mat[0][0]\n",
    "false_positive = conf_mat[0][1]\n",
    "false_negative = conf_mat[1][0]\n",
    "true_negative = conf_mat[1][1]\n",
    "print('True Positive:',true_positive,'\\nTrue Negative:',true_negative,'\\nFalse Negative:',false_negative, '\\nFalsePositive:',false_positive)"
   ]
  },
  {
   "cell_type": "code",
   "execution_count": 54,
   "metadata": {
    "execution": {
     "iopub.execute_input": "2024-03-28T20:49:23.242579Z",
     "iopub.status.busy": "2024-03-28T20:49:23.242054Z",
     "iopub.status.idle": "2024-03-28T20:49:23.577153Z",
     "shell.execute_reply": "2024-03-28T20:49:23.575937Z",
     "shell.execute_reply.started": "2024-03-28T20:49:23.242544Z"
    }
   },
   "outputs": [
    {
     "data": {
      "image/png": "[encoded data removed]",
      "text/plain": [
       "<Figure size 640x480 with 2 Axes>"
      ]
     },
     "metadata": {},
     "output_type": "display_data"
    }
   ],
   "source": [
    "ax = plt.subplot()\n",
    "ax = sns.heatmap(conf_mat, annot=True, fmt='', cmap=\"Blues\")\n",
    "ax.set_xlabel('Predicted labels', fontsize=18)\n",
    "ax.set_ylabel('True labels', fontsize=18)\n",
    "ax.set_title('Confusion Matrix', fontsize=25)\n",
    "ax.xaxis.set_ticklabels(['Absence of Heart Disease','Presence of Heart Disease'])\n",
    "ax.yaxis.set_ticklabels(['Absence of Heart Disease','Presence of Heart Disease'])\n",
    "plt.show()"
   ]
  },
  {
   "cell_type": "markdown",
   "metadata": {},
   "source": [
    "# Decision Tree Classifier"
   ]
  },
  {
   "cell_type": "code",
   "execution_count": 55,
   "metadata": {
    "execution": {
     "iopub.execute_input": "2024-03-28T20:49:26.997254Z",
     "iopub.status.busy": "2024-03-28T20:49:26.996735Z",
     "iopub.status.idle": "2024-03-28T20:49:27.014624Z",
     "shell.execute_reply": "2024-03-28T20:49:27.012975Z",
     "shell.execute_reply.started": "2024-03-28T20:49:26.997217Z"
    }
   },
   "outputs": [
    {
     "data": {
      "text/plain": [
       "DecisionTreeClassifier(criterion='entropy', max_depth=8, random_state=0,\n",
       "                       splitter='random')"
      ]
     },
     "execution_count": 55,
     "metadata": {},
     "output_type": "execute_result"
    }
   ],
   "source": [
    "# Fitting Decision Tree classifier to the training set  \n",
    "tree_classifier= DecisionTreeClassifier(max_depth= 8, splitter= 'random', criterion='entropy', random_state=0)  \n",
    "tree_classifier.fit(X_train, y_train)  "
   ]
  },
  {
   "cell_type": "code",
   "execution_count": 56,
   "metadata": {
    "execution": {
     "iopub.execute_input": "2024-03-28T20:49:29.787273Z",
     "iopub.status.busy": "2024-03-28T20:49:29.786667Z",
     "iopub.status.idle": "2024-03-28T20:49:29.793754Z",
     "shell.execute_reply": "2024-03-28T20:49:29.792546Z",
     "shell.execute_reply.started": "2024-03-28T20:49:29.787234Z"
    }
   },
   "outputs": [],
   "source": [
    "#Predicting the test set result  \n",
    "y_pred_tree= tree_classifier.predict(X_test)  "
   ]
  },
  {
   "cell_type": "code",
   "execution_count": 57,
   "metadata": {
    "execution": {
     "iopub.execute_input": "2024-03-28T20:49:31.817707Z",
     "iopub.status.busy": "2024-03-28T20:49:31.817278Z",
     "iopub.status.idle": "2024-03-28T20:49:31.847661Z",
     "shell.execute_reply": "2024-03-28T20:49:31.845479Z",
     "shell.execute_reply.started": "2024-03-28T20:49:31.817676Z"
    }
   },
   "outputs": [
    {
     "name": "stdout",
     "output_type": "stream",
     "text": [
      "Classification Report\n",
      "\n",
      "                            precision    recall  f1-score   support\n",
      "\n",
      " Absence of Heart Disease       0.85      0.87      0.86        53\n",
      "Presence of Heart Disease       0.95      0.95      0.95       152\n",
      "\n",
      "                 accuracy                           0.93       205\n",
      "                macro avg       0.90      0.91      0.91       205\n",
      "             weighted avg       0.93      0.93      0.93       205\n",
      "\n"
     ]
    }
   ],
   "source": [
    "print('Classification Report\\n\\n',classification_report(y_test, y_pred_tree))"
   ]
  },
  {
   "cell_type": "code",
   "execution_count": 58,
   "metadata": {
    "execution": {
     "iopub.execute_input": "2024-03-28T20:49:34.345571Z",
     "iopub.status.busy": "2024-03-28T20:49:34.345169Z",
     "iopub.status.idle": "2024-03-28T20:49:34.360721Z",
     "shell.execute_reply": "2024-03-28T20:49:34.359187Z",
     "shell.execute_reply.started": "2024-03-28T20:49:34.345543Z"
    }
   },
   "outputs": [
    {
     "name": "stdout",
     "output_type": "stream",
     "text": [
      "Training score of the DT model is : 98.0 %\n",
      "Accuracy score of the DT model is : 92.68 %\n"
     ]
    }
   ],
   "source": [
    "# Accuracy Score\n",
    "tree_score = round(accuracy_score(y_test, y_pred_tree),4)\n",
    "print(f'Training score of the DT model is : {round(tree_classifier.score(X_train, y_train),3)*100} %')\n",
    "print(f'Accuracy score of the DT model is : {round(round(accuracy_score(y_test, y_pred_tree),4)*100,3)} %')"
   ]
  },
  {
   "cell_type": "code",
   "execution_count": 59,
   "metadata": {
    "execution": {
     "iopub.execute_input": "2024-03-28T20:49:36.990253Z",
     "iopub.status.busy": "2024-03-28T20:49:36.989839Z",
     "iopub.status.idle": "2024-03-28T20:49:37.000918Z",
     "shell.execute_reply": "2024-03-28T20:49:36.999390Z",
     "shell.execute_reply.started": "2024-03-28T20:49:36.990219Z"
    }
   },
   "outputs": [
    {
     "name": "stdout",
     "output_type": "stream",
     "text": [
      "True Positive: 46 \n",
      "True Negative: 144 \n",
      "False Negative: 8 \n",
      "FalsePositive: 7\n"
     ]
    }
   ],
   "source": [
    "# Confusion Matrix\n",
    "conf_mat = confusion_matrix(y_test, y_pred_tree)\n",
    "true_positive = conf_mat[0][0]\n",
    "false_positive = conf_mat[0][1]\n",
    "false_negative = conf_mat[1][0]\n",
    "true_negative = conf_mat[1][1]\n",
    "print('True Positive:',true_positive,'\\nTrue Negative:',true_negative,'\\nFalse Negative:',false_negative, '\\nFalsePositive:',false_positive)"
   ]
  },
  {
   "cell_type": "code",
   "execution_count": 60,
   "metadata": {
    "execution": {
     "iopub.execute_input": "2024-03-28T20:49:39.396807Z",
     "iopub.status.busy": "2024-03-28T20:49:39.396403Z",
     "iopub.status.idle": "2024-03-28T20:49:39.740283Z",
     "shell.execute_reply": "2024-03-28T20:49:39.738981Z",
     "shell.execute_reply.started": "2024-03-28T20:49:39.396779Z"
    }
   },
   "outputs": [
    {
     "data": {
      "image/png": "[encoded data removed]",
      "text/plain": [
       "<Figure size 640x480 with 2 Axes>"
      ]
     },
     "metadata": {},
     "output_type": "display_data"
    }
   ],
   "source": [
    "ax = plt.subplot()\n",
    "ax = sns.heatmap(conf_mat, annot=True, fmt='', cmap=\"Blues\")\n",
    "ax.set_xlabel('Predicted labels', fontsize=18)\n",
    "ax.set_ylabel('True labels', fontsize=18)\n",
    "ax.set_title('Confusion Matrix', fontsize=25)\n",
    "ax.xaxis.set_ticklabels(['Absence of Heart Disease','Presence of Heart Disease'])\n",
    "ax.yaxis.set_ticklabels(['Absence of Heart Disease','Presence of Heart Disease'])\n",
    "plt.show()"
   ]
  },
  {
   "cell_type": "markdown",
   "metadata": {},
   "source": [
    "# KNeighbors Classifier"
   ]
  },
  {
   "cell_type": "code",
   "execution_count": 61,
   "metadata": {
    "execution": {
     "iopub.execute_input": "2024-03-28T20:49:42.801594Z",
     "iopub.status.busy": "2024-03-28T20:49:42.801058Z",
     "iopub.status.idle": "2024-03-28T20:49:42.817801Z",
     "shell.execute_reply": "2024-03-28T20:49:42.816228Z",
     "shell.execute_reply.started": "2024-03-28T20:49:42.801560Z"
    }
   },
   "outputs": [
    {
     "data": {
      "text/plain": [
       "KNeighborsClassifier(n_neighbors=7, weights='distance')"
      ]
     },
     "execution_count": 61,
     "metadata": {},
     "output_type": "execute_result"
    }
   ],
   "source": [
    "#Fitting K-NN classifier to the training set  \n",
    "knn_classifier= KNeighborsClassifier(n_neighbors=7, metric='minkowski', weights= 'distance')  \n",
    "knn_classifier.fit(X_train, y_train)  "
   ]
  },
  {
   "cell_type": "code",
   "execution_count": 62,
   "metadata": {
    "execution": {
     "iopub.execute_input": "2024-03-28T20:49:45.234699Z",
     "iopub.status.busy": "2024-03-28T20:49:45.234302Z",
     "iopub.status.idle": "2024-03-28T20:49:45.249034Z",
     "shell.execute_reply": "2024-03-28T20:49:45.247689Z",
     "shell.execute_reply.started": "2024-03-28T20:49:45.234670Z"
    }
   },
   "outputs": [],
   "source": [
    "#Predicting the test set result  \n",
    "y_pred_knn= knn_classifier.predict(X_test)"
   ]
  },
  {
   "cell_type": "code",
   "execution_count": 63,
   "metadata": {
    "execution": {
     "iopub.execute_input": "2024-03-28T20:49:47.765555Z",
     "iopub.status.busy": "2024-03-28T20:49:47.763365Z",
     "iopub.status.idle": "2024-03-28T20:49:47.801951Z",
     "shell.execute_reply": "2024-03-28T20:49:47.800518Z",
     "shell.execute_reply.started": "2024-03-28T20:49:47.765482Z"
    }
   },
   "outputs": [
    {
     "name": "stdout",
     "output_type": "stream",
     "text": [
      "Classification Report\n",
      "\n",
      "                            precision    recall  f1-score   support\n",
      "\n",
      " Absence of Heart Disease       0.77      0.75      0.76        53\n",
      "Presence of Heart Disease       0.92      0.92      0.92       152\n",
      "\n",
      "                 accuracy                           0.88       205\n",
      "                macro avg       0.84      0.84      0.84       205\n",
      "             weighted avg       0.88      0.88      0.88       205\n",
      "\n"
     ]
    }
   ],
   "source": [
    "print('Classification Report\\n\\n',classification_report(y_test, y_pred_knn))"
   ]
  },
  {
   "cell_type": "code",
   "execution_count": 64,
   "metadata": {
    "execution": {
     "iopub.execute_input": "2024-03-28T20:49:50.133587Z",
     "iopub.status.busy": "2024-03-28T20:49:50.132845Z",
     "iopub.status.idle": "2024-03-28T20:49:50.166067Z",
     "shell.execute_reply": "2024-03-28T20:49:50.164514Z",
     "shell.execute_reply.started": "2024-03-28T20:49:50.133551Z"
    }
   },
   "outputs": [
    {
     "name": "stdout",
     "output_type": "stream",
     "text": [
      "Training score of the KNN model is : 100.0 %\n",
      "Accuracy score of the KNN model is : 87.8 %\n"
     ]
    }
   ],
   "source": [
    "# Accuracy Score\n",
    "knn_score = round(accuracy_score(y_test, y_pred_knn),4)\n",
    "print(f'Training score of the KNN model is : {round(knn_classifier.score(X_train, y_train),3)*100} %')\n",
    "print(f'Accuracy score of the KNN model is : {round(round(accuracy_score(y_test, y_pred_knn),4)*100,3)} %')"
   ]
  },
  {
   "cell_type": "code",
   "execution_count": 65,
   "metadata": {
    "execution": {
     "iopub.execute_input": "2024-03-28T20:49:52.705020Z",
     "iopub.status.busy": "2024-03-28T20:49:52.704587Z",
     "iopub.status.idle": "2024-03-28T20:49:52.717194Z",
     "shell.execute_reply": "2024-03-28T20:49:52.715508Z",
     "shell.execute_reply.started": "2024-03-28T20:49:52.704991Z"
    }
   },
   "outputs": [
    {
     "name": "stdout",
     "output_type": "stream",
     "text": [
      "True Positive: 40 \n",
      "True Negative: 140 \n",
      "False Negative: 12 \n",
      "False Positive: 13\n"
     ]
    }
   ],
   "source": [
    "# Confusion Matrix\n",
    "conf_mat = confusion_matrix(y_test, y_pred_knn)\n",
    "true_positive = conf_mat[0][0]\n",
    "false_positive = conf_mat[0][1]\n",
    "false_negative = conf_mat[1][0]\n",
    "true_negative = conf_mat[1][1]\n",
    "print('True Positive:',true_positive,'\\nTrue Negative:',true_negative,'\\nFalse Negative:',false_negative, '\\nFalse Positive:',false_positive)"
   ]
  },
  {
   "cell_type": "code",
   "execution_count": 66,
   "metadata": {
    "execution": {
     "iopub.execute_input": "2024-03-28T20:49:55.697883Z",
     "iopub.status.busy": "2024-03-28T20:49:55.697367Z",
     "iopub.status.idle": "2024-03-28T20:49:56.031788Z",
     "shell.execute_reply": "2024-03-28T20:49:56.030384Z",
     "shell.execute_reply.started": "2024-03-28T20:49:55.697844Z"
    }
   },
   "outputs": [
    {
     "data": {
      "image/png": "[encoded data removed]",
      "text/plain": [
       "<Figure size 640x480 with 2 Axes>"
      ]
     },
     "metadata": {},
     "output_type": "display_data"
    }
   ],
   "source": [
    "ax = plt.subplot()\n",
    "ax = sns.heatmap(conf_mat, annot=True, fmt='', cmap=\"Blues\")\n",
    "ax.set_xlabel('Predicted labels', fontsize=18)\n",
    "ax.set_ylabel('True labels', fontsize=18)\n",
    "ax.set_title('Confusion Matrix', fontsize=25)\n",
    "ax.xaxis.set_ticklabels(['Absence of Heart Disease','Presence of Heart Disease'])\n",
    "ax.yaxis.set_ticklabels(['Absence of Heart Disease','Presence of Heart Disease'])\n",
    "plt.show()"
   ]
  },
  {
   "cell_type": "markdown",
   "metadata": {},
   "source": [
    "# Gaussian Naïve Bayes"
   ]
  },
  {
   "cell_type": "code",
   "execution_count": 67,
   "metadata": {
    "execution": {
     "iopub.execute_input": "2024-03-28T20:49:59.501700Z",
     "iopub.status.busy": "2024-03-28T20:49:59.501290Z",
     "iopub.status.idle": "2024-03-28T20:49:59.516309Z",
     "shell.execute_reply": "2024-03-28T20:49:59.515008Z",
     "shell.execute_reply.started": "2024-03-28T20:49:59.501672Z"
    }
   },
   "outputs": [
    {
     "data": {
      "text/plain": [
       "GaussianNB()"
      ]
     },
     "execution_count": 67,
     "metadata": {},
     "output_type": "execute_result"
    }
   ],
   "source": [
    "# Fitting Naive Bayes to the Training set  \n",
    "gnb_classifier = GaussianNB()  \n",
    "gnb_classifier.fit(X_train, y_train)"
   ]
  },
  {
   "cell_type": "code",
   "execution_count": 68,
   "metadata": {
    "execution": {
     "iopub.execute_input": "2024-03-28T20:50:02.195314Z",
     "iopub.status.busy": "2024-03-28T20:50:02.194449Z",
     "iopub.status.idle": "2024-03-28T20:50:02.202915Z",
     "shell.execute_reply": "2024-03-28T20:50:02.201330Z",
     "shell.execute_reply.started": "2024-03-28T20:50:02.195262Z"
    }
   },
   "outputs": [],
   "source": [
    "# Predicting the Test set results  \n",
    "y_pred_gnb = gnb_classifier.predict(X_test)  "
   ]
  },
  {
   "cell_type": "code",
   "execution_count": 69,
   "metadata": {
    "execution": {
     "iopub.execute_input": "2024-03-28T20:50:05.205765Z",
     "iopub.status.busy": "2024-03-28T20:50:05.205362Z",
     "iopub.status.idle": "2024-03-28T20:50:05.232081Z",
     "shell.execute_reply": "2024-03-28T20:50:05.230788Z",
     "shell.execute_reply.started": "2024-03-28T20:50:05.205726Z"
    }
   },
   "outputs": [
    {
     "name": "stdout",
     "output_type": "stream",
     "text": [
      "Classification Report\n",
      "\n",
      "                            precision    recall  f1-score   support\n",
      "\n",
      " Absence of Heart Disease       0.77      0.89      0.82        53\n",
      "Presence of Heart Disease       0.96      0.91      0.93       152\n",
      "\n",
      "                 accuracy                           0.90       205\n",
      "                macro avg       0.86      0.90      0.88       205\n",
      "             weighted avg       0.91      0.90      0.90       205\n",
      "\n"
     ]
    }
   ],
   "source": [
    "print('Classification Report\\n\\n',classification_report(y_test, y_pred_gnb))"
   ]
  },
  {
   "cell_type": "code",
   "execution_count": 70,
   "metadata": {
    "execution": {
     "iopub.execute_input": "2024-03-28T20:50:07.914643Z",
     "iopub.status.busy": "2024-03-28T20:50:07.914205Z",
     "iopub.status.idle": "2024-03-28T20:50:07.931893Z",
     "shell.execute_reply": "2024-03-28T20:50:07.929883Z",
     "shell.execute_reply.started": "2024-03-28T20:50:07.914613Z"
    }
   },
   "outputs": [
    {
     "name": "stdout",
     "output_type": "stream",
     "text": [
      "Training score of the GNB model is : 92.4 %\n",
      "Accuracy score of the GNB model is : 90.24 %\n"
     ]
    }
   ],
   "source": [
    "# Accuracy Score\n",
    "gnb_score = round(accuracy_score(y_test, y_pred_gnb),4)\n",
    "print(f'Training score of the GNB model is : {round(gnb_classifier.score(X_train, y_train),3)*100} %')\n",
    "print(f'Accuracy score of the GNB model is : {round(round(accuracy_score(y_test, y_pred_gnb),4)*100,3)} %')"
   ]
  },
  {
   "cell_type": "code",
   "execution_count": 71,
   "metadata": {
    "execution": {
     "iopub.execute_input": "2024-03-28T20:50:10.432959Z",
     "iopub.status.busy": "2024-03-28T20:50:10.432581Z",
     "iopub.status.idle": "2024-03-28T20:50:10.444733Z",
     "shell.execute_reply": "2024-03-28T20:50:10.443025Z",
     "shell.execute_reply.started": "2024-03-28T20:50:10.432930Z"
    }
   },
   "outputs": [
    {
     "name": "stdout",
     "output_type": "stream",
     "text": [
      "True Positive: 47 \n",
      "True Negative: 138 \n",
      "False Negative: 14 \n",
      "False Positive: 6\n"
     ]
    }
   ],
   "source": [
    "# Confusion Matrix\n",
    "conf_mat = confusion_matrix(y_test, y_pred_gnb)\n",
    "true_positive = conf_mat[0][0]\n",
    "false_positive = conf_mat[0][1]\n",
    "false_negative = conf_mat[1][0]\n",
    "true_negative = conf_mat[1][1]\n",
    "print('True Positive:',true_positive,'\\nTrue Negative:',true_negative,'\\nFalse Negative:',false_negative, '\\nFalse Positive:',false_positive)"
   ]
  },
  {
   "cell_type": "code",
   "execution_count": 72,
   "metadata": {
    "execution": {
     "iopub.execute_input": "2024-03-28T20:50:13.298009Z",
     "iopub.status.busy": "2024-03-28T20:50:13.297631Z",
     "iopub.status.idle": "2024-03-28T20:50:13.622870Z",
     "shell.execute_reply": "2024-03-28T20:50:13.621575Z",
     "shell.execute_reply.started": "2024-03-28T20:50:13.297981Z"
    }
   },
   "outputs": [
    {
     "data": {
      "image/png": "[encoded data removed]",
      "text/plain": [
       "<Figure size 640x480 with 2 Axes>"
      ]
     },
     "metadata": {},
     "output_type": "display_data"
    }
   ],
   "source": [
    "ax = plt.subplot()\n",
    "ax = sns.heatmap(conf_mat, annot=True, fmt='', cmap=\"Blues\")\n",
    "ax.set_xlabel('Predicted labels', fontsize=18)\n",
    "ax.set_ylabel('True labels', fontsize=18)\n",
    "ax.set_title('Confusion Matrix', fontsize=25)\n",
    "ax.xaxis.set_ticklabels(['Absence of Heart Disease','Presence of Heart Disease'])\n",
    "ax.yaxis.set_ticklabels(['Absence of Heart Disease','Presence of Heart Disease'])\n",
    "plt.show()"
   ]
  },
  {
   "cell_type": "markdown",
   "metadata": {},
   "source": [
    "# Accuracy Comparaison"
   ]
  },
  {
   "cell_type": "code",
   "execution_count": 74,
   "metadata": {
    "execution": {
     "iopub.execute_input": "2024-03-28T20:50:19.478601Z",
     "iopub.status.busy": "2024-03-28T20:50:19.478015Z",
     "iopub.status.idle": "2024-03-28T20:50:19.490189Z",
     "shell.execute_reply": "2024-03-28T20:50:19.488687Z",
     "shell.execute_reply.started": "2024-03-28T20:50:19.478559Z"
    }
   },
   "outputs": [],
   "source": [
    "sns.set_palette(\"Reds\")"
   ]
  },
  {
   "cell_type": "code",
   "execution_count": 73,
   "metadata": {
    "execution": {
     "iopub.execute_input": "2024-03-28T20:50:16.937251Z",
     "iopub.status.busy": "2024-03-28T20:50:16.936833Z",
     "iopub.status.idle": "2024-03-28T20:50:16.948848Z",
     "shell.execute_reply": "2024-03-28T20:50:16.947297Z",
     "shell.execute_reply.started": "2024-03-28T20:50:16.937220Z"
    }
   },
   "outputs": [],
   "source": [
    "result = pd.DataFrame({\n",
    "    'Algorithm' : ['RandomForestClassifier', 'LogisticRegression', 'SVC', 'DecisionTreeClassifier', 'KNeighborsClassifier', 'GaussianNB'],\n",
    "    'Score' : [rf_score, lr_score, svc_score, tree_score, knn_score, gnb_score]\n",
    "})\n",
    "\n",
    "result.sort_values(by='Score', inplace=True)"
   ]
  },
  {
   "cell_type": "code",
   "execution_count": 75,
   "metadata": {
    "execution": {
     "iopub.execute_input": "2024-03-28T20:50:21.564985Z",
     "iopub.status.busy": "2024-03-28T20:50:21.564529Z",
     "iopub.status.idle": "2024-03-28T20:50:21.906505Z",
     "shell.execute_reply": "2024-03-28T20:50:21.905023Z",
     "shell.execute_reply.started": "2024-03-28T20:50:21.564954Z"
    }
   },
   "outputs": [
    {
     "data": {
      "image/png": "[encoded data removed]",
      "text/plain": [
       "<Figure size 1500x500 with 1 Axes>"
      ]
     },
     "metadata": {},
     "output_type": "display_data"
    }
   ],
   "source": [
    "fig, ax = plt.subplots(1, 1, figsize=(15, 5))\n",
    "\n",
    "sns.barplot(x='Algorithm', y='Score', data=result)\n",
    "ax.bar_label(ax.containers[0], fmt='%.3f')\n",
    "ax.set_xticklabels(labels=result.Algorithm, rotation=300)\n",
    "plt.show()"
   ]
  },
  {
   "cell_type": "markdown",
   "metadata": {},
   "source": [
    "### Conclusion\n",
    "Based on the above plots, best algorithm base on Score is : Random Forest Classifier"
   ]
  },
  {
   "cell_type": "markdown",
   "metadata": {},
   "source": [
    "# Final Modeling"
   ]
  },
  {
   "cell_type": "code",
   "execution_count": 76,
   "metadata": {
    "execution": {
     "iopub.execute_input": "2024-03-28T20:50:27.028886Z",
     "iopub.status.busy": "2024-03-28T20:50:27.028437Z",
     "iopub.status.idle": "2024-03-28T20:50:28.649921Z",
     "shell.execute_reply": "2024-03-28T20:50:28.648225Z",
     "shell.execute_reply.started": "2024-03-28T20:50:27.028856Z"
    }
   },
   "outputs": [
    {
     "data": {
      "text/plain": [
       "RandomForestClassifier(criterion='entropy', max_features='log2',\n",
       "                       n_estimators=500)"
      ]
     },
     "execution_count": 76,
     "metadata": {},
     "output_type": "execute_result"
    }
   ],
   "source": [
    "# Model\n",
    "rf = RandomForestClassifier(n_estimators= 500, criterion=\"entropy\", max_features='log2')\n",
    "rf.fit(X, y)"
   ]
  }
 ],
 "metadata": {
  "kaggle": {
   "accelerator": "none",
   "dataSources": [
    {
     "datasetId": 4134888,
     "sourceId": 7159329,
     "sourceType": "datasetVersion"
    }
   ],
   "dockerImageVersionId": 30673,
   "isGpuEnabled": false,
   "isInternetEnabled": true,
   "language": "python",
   "sourceType": "notebook"
  },
  "kernelspec": {
   "display_name": "Python 3 (ipykernel)",
   "language": "python",
   "name": "python3"
  },
  "language_info": {
   "codemirror_mode": {
    "name": "ipython",
    "version": 3
   },
   "file_extension": ".py",
   "mimetype": "text/x-python",
   "name": "python",
   "nbconvert_exporter": "python",
   "pygments_lexer": "ipython3",
   "version": "3.9.13"
  }
 },
 "nbformat": 4,
 "nbformat_minor": 4
}
